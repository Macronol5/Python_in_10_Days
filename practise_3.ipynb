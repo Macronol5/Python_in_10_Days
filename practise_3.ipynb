{
 "cells": [
  {
   "cell_type": "code",
   "execution_count": 1,
   "metadata": {},
   "outputs": [
    {
     "name": "stdout",
     "output_type": "stream",
     "text": [
      "\n",
      "\t\t  ##              ##  =======     ####       ####    ####     =======\n",
      "\t\t  \\ \\    ####    / /  #      #  ##    ##    / /\\ \\  / /\\ \\    #      #\n",
      "\t\t   \\ \\  / /\\ \\  / /   #======   ##    ##   / /  \\ \\/ /  \\ \\   #====== \n",
      "\t\t    \\ \\/ /  \\ \\/ /    #      #  ##    ##  / /    ####    \\ \\  #      #\n",
      "\t\t     ####    ####     =======     ####    ##              ##  =======\n",
      "\t\t\n"
     ]
    },
    {
     "name": "stderr",
     "output_type": "stream",
     "text": [
      "C:\\Users\\devap\\AppData\\Local\\Temp\\ipykernel_1804\\1006698877.py:17: DeprecationWarning: executable_path has been deprecated, please pass in a Service object\n",
      "  driver = webdriver.Chrome(ChromeDriverManager().install())  # 2nd change\n"
     ]
    }
   ],
   "source": [
    "from selenium import webdriver\n",
    "import os\n",
    "from webdriver_manager.chrome import ChromeDriverManager  # 1st changer\n",
    "\n",
    "\n",
    "def banner():\n",
    "    print('''\n",
    "\t\t  ##              ##  =======     ####       ####    ####     =======\n",
    "\t\t  \\ \\    ####    / /  #      #  ##    ##    / /\\ \\  / /\\ \\    #      #\n",
    "\t\t   \\ \\  / /\\ \\  / /   #======   ##    ##   / /  \\ \\/ /  \\ \\   #====== \n",
    "\t\t    \\ \\/ /  \\ \\/ /    #      #  ##    ##  / /    ####    \\ \\  #      #\n",
    "\t\t     ####    ####     =======     ####    ##              ##  =======\n",
    "\t\t''')\n",
    "\n",
    "\n",
    "def main():\n",
    "    driver = webdriver.Chrome(ChromeDriverManager().install())  # 2nd change\n",
    "    driver.get('https://web.whatsapp.com/')\n",
    "\n",
    "    name = input('Enter the name of user or group: ')\n",
    "    msg = input('Enter your message: ')\n",
    "    count = int(input('Enter the count: '))\n",
    "\n",
    "    input('Enter any key after scanning QR code')\n",
    "\n",
    "    user = driver.find_element_by_xpath('//span[@title = \"{}\"]'.format(name))\n",
    "    user.click()\n",
    "\n",
    "    # The classname of message box may vary.\n",
    "    msg_box = driver.find_element_by_xpath('/html/body/div[1]/div[1]/div[1]/div[4]/div[1]/footer/div[1]/div/div/div[2]/div[1]/div/div[2]')\n",
    "\n",
    "    for i in range(count):\n",
    "        msg_box.send_keys(msg)\n",
    "        # The classname of send button may vary.\n",
    "        button = driver.find_element_by_xpath('/html/body/div[1]/div[1]/div[1]/div[4]/div[1]/footer/div[1]/div/div/div[2]/div[2]/button')\n",
    "        button.click()\n",
    "    print('Bombing Complete!!')\n",
    "\n",
    "\n",
    "banner()\n",
    "main()"
   ]
  }
 ],
 "metadata": {
  "kernelspec": {
   "display_name": "Python 3",
   "language": "python",
   "name": "python3"
  },
  "language_info": {
   "codemirror_mode": {
    "name": "ipython",
    "version": 3
   },
   "file_extension": ".py",
   "mimetype": "text/x-python",
   "name": "python",
   "nbconvert_exporter": "python",
   "pygments_lexer": "ipython3",
   "version": "3.11.3"
  },
  "orig_nbformat": 4
 },
 "nbformat": 4,
 "nbformat_minor": 2
}
