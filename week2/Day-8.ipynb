{
 "cells": [
  {
   "cell_type": "code",
   "execution_count": 1,
   "metadata": {},
   "outputs": [
    {
     "name": "stdout",
     "output_type": "stream",
     "text": [
      "Requirement already satisfied: mysql-connector-python in c:\\users\\devap\\appdata\\local\\programs\\python\\python311\\lib\\site-packages (8.0.33)Note: you may need to restart the kernel to use updated packages.\n",
      "\n",
      "Collecting protobuf<=3.20.3,>=3.11.0 (from mysql-connector-python)\n",
      "  Downloading protobuf-3.20.3-py2.py3-none-any.whl (162 kB)\n",
      "                                              0.0/162.1 kB ? eta -:--:--\n",
      "     -------                                 30.7/162.1 kB 1.3 MB/s eta 0:00:01\n",
      "     ----------------------                  92.2/162.1 kB 1.1 MB/s eta 0:00:01\n",
      "     ---------------------------          122.9/162.1 kB 901.1 kB/s eta 0:00:01\n",
      "     ------------------------------------ 162.1/162.1 kB 973.6 kB/s eta 0:00:00\n",
      "Installing collected packages: protobuf\n",
      "Successfully installed protobuf-3.20.3\n"
     ]
    }
   ],
   "source": [
    "pip install mysql-connector-python"
   ]
  },
  {
   "cell_type": "code",
   "execution_count": 2,
   "metadata": {},
   "outputs": [
    {
     "name": "stdout",
     "output_type": "stream",
     "text": [
      "('MY OSSU Journey', 4545454545, 'dev.a.preetham5@gmail.com', 'india', 232323232323, '2112122112')\n",
      "('Pretham', 4545454545, 'Preethamdev25@gmail.com', 'India', 454545454545, '4545454555')\n"
     ]
    }
   ],
   "source": [
    "import mysql.connector\n",
    "\n",
    "connection = mysql.connector.connect(\n",
    "    host  = \"localhost\",\n",
    "    user = \"root\",\n",
    "    password = \"password\",\n",
    "    database = \"wiley_edge_c361\"\n",
    ")\n",
    "cursor = connection.cursor()\n",
    "create_table = \"\"\"CREATE TABLE IF NOT EXISTS students7890 (id int not null primary key,name VARCHAR(255), age INTEGER(10))\"\"\"\n",
    "\n",
    "cursor.execute(create_table)\n",
    "print(\"Table created successfully\")\n",
    "\n",
    "insert_query = \"INSERT INTO students7890 (id,name, age) VALUES (%s,%s, %s)\"\n",
    "data = [(1,\"John\", 21),(2,\"hi\",34),(3,\"hello\",45),(4,\"bye\",56),(5,\"good\",67),(6,\"bad\",78),(7,\"nice\",89),(8,\"bad\",90),(9,\"good\",100),(10,\"bad\",110)]\n",
    "cursor.executemany(insert_query, data)\n",
    "\n",
    "connection.commit()\n",
    "\n",
    "select_query = \"SELECT * FROM users789\"\n",
    "cursor.execute(select_query)\n",
    "\n",
    "rows = cursor.fetchall()\n",
    "\n",
    "\n",
    "for row in rows:\n",
    "    print(row)\n",
    "\n",
    "connection.commit()\n",
    "cursor.close()\n",
    "connection.close()"
   ]
  }
 ],
 "metadata": {
  "kernelspec": {
   "display_name": "Python 3",
   "language": "python",
   "name": "python3"
  },
  "language_info": {
   "codemirror_mode": {
    "name": "ipython",
    "version": 3
   },
   "file_extension": ".py",
   "mimetype": "text/x-python",
   "name": "python",
   "nbconvert_exporter": "python",
   "pygments_lexer": "ipython3",
   "version": "3.11.3"
  },
  "orig_nbformat": 4
 },
 "nbformat": 4,
 "nbformat_minor": 2
}
