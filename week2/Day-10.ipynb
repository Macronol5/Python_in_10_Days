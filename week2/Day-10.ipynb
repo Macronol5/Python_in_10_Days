{
 "cells": [
  {
   "cell_type": "code",
   "execution_count": 1,
   "metadata": {},
   "outputs": [
    {
     "name": "stdout",
     "output_type": "stream",
     "text": [
      "Train is being maintained\n",
      "Train is being maintained\n",
      "Train is being maintained\n",
      "About to start maintainence of TrainType.REGIONAL train\n",
      "Train is being maintained\n",
      "About to start maintainence of TrainType.INTER_CITY train\n",
      "Train is being maintained\n",
      "1000\n"
     ]
    }
   ],
   "source": [
    "#This is abstract method\n",
    "\n",
    "from abc import ABC, abstractmethod\n",
    "from enum import Enum\n",
    "\n",
    "#a special data type that enables for a variable to be a set of predefined constants\n",
    "class TrainType(Enum):\n",
    "    REGIONAL = 1\n",
    "    INTER_CITY = 2\n",
    "\n",
    "#This is Encapsulation  \n",
    "class TrainDriver:\n",
    "    def __init__(self, name,age,salary):\n",
    "        self.name = name\n",
    "        self.age = age\n",
    "        self.salary = salary\n",
    "\n",
    "    def get_Salary(self):\n",
    "        return self.salary\n",
    "    \n",
    "    def setSalary(self, salary):\n",
    "        self.salary = salary\n",
    "\n",
    "#This is Polymorphism\n",
    "class MeansOfTransport(ABC):\n",
    "    def __init__(self, max_speed, efficient_lvl, number_of_seats) -> None:\n",
    "        super().__init__()\n",
    "        self.max_speed = max_speed\n",
    "        self.efficient_lvl = efficient_lvl\n",
    "        self.number_of_seats = number_of_seats\n",
    "\n",
    "    @abstractmethod\n",
    "    def maintain(self):\n",
    "        pass\n",
    "\n",
    "    @abstractmethod\n",
    "    def man_vehicle(self):\n",
    "        pass\n",
    "\n",
    "#This is Inheritance\n",
    "class Train(MeansOfTransport):\n",
    "    def __init__(self, max_speed, efficient_lvl, number_of_seats, number_of_coaches) -> None:\n",
    "        super().__init__(max_speed, efficient_lvl, number_of_seats)\n",
    "        self.number_of_coaches = number_of_coaches\n",
    "\n",
    "    def maintain(self):\n",
    "        print(\"Train is being maintained\")\n",
    "    \n",
    "    def man_vehicle(self,trainDriver: TrainDriver):\n",
    "        self.driver = trainDriver\n",
    "\n",
    "#This is Inheritance\n",
    "class ReginalTrain(Train):\n",
    "    def __init__(self, max_speed, efficient_lvl, number_of_seats, number_of_coaches) -> None:\n",
    "        super().__init__(max_speed, efficient_lvl, number_of_seats,number_of_coaches)\n",
    "        self.train_type = TrainType(1)\n",
    "\n",
    "#This is Inheritance\n",
    "class InterCityTrain(Train):\n",
    "    def __init__(self, max_speed, efficient_lvl, number_of_seats, number_of_coaches) -> None:\n",
    "        super().__init__(max_speed, efficient_lvl, number_of_seats,number_of_coaches)\n",
    "        self.train_type = TrainType(2)\n",
    "\n",
    "\n",
    "t1 = Train(200,1,122,8)\n",
    "rt1 = ReginalTrain(200,1,80,6)\n",
    "ict = InterCityTrain(200,1,122,10)\n",
    "t1.maintain()\n",
    "rt1.maintain()\n",
    "ict.maintain()\n",
    "\n",
    "#This is Polymorphism   \n",
    "def Do_train_maintainence(train:ReginalTrain|InterCityTrain):\n",
    "    print(f'About to start maintainence of {train.train_type} train')\n",
    "    train.maintain()\n",
    "\n",
    "\n",
    "Do_train_maintainence(rt1)\n",
    "Do_train_maintainence(ict)\n",
    "t1.man_vehicle(TrainDriver(\"John\", 30, 1000))\n",
    "print(t1.driver.get_Salary())\n"
   ]
  },
  {
   "cell_type": "code",
   "execution_count": 10,
   "metadata": {},
   "outputs": [
    {
     "name": "stdout",
     "output_type": "stream",
     "text": [
      "['a', 'ab', 'abb', 'b', 'bb', 'b']\n"
     ]
    }
   ],
   "source": [
    "def substrings(string):\n",
    "    substrings = []\n",
    "    n = len(string)\n",
    "    for i in range(n):\n",
    "        for j in range(i+1,n):\n",
    "            substrings.append(string[i:j])\n",
    "    return substrings\n",
    "\n",
    "print(substrings(\"abba\"))\n"
   ]
  },
  {
   "attachments": {},
   "cell_type": "markdown",
   "metadata": {},
   "source": [
    "Question:\n",
    "Sherlock considers a string to be anagrams pairs if they have the same characters but in different orders. For example, \"abcd\" and \"bacd\" are anagram pairs. Given a string, find the total number of anagram pairs that can be formed using any substring.\n",
    "\n",
    "Write a function sherlockAndAnagrams(s) that takes in a string s and returns the count of anagram pairs.\n",
    "\n",
    "Function signature:\n",
    "\n",
    "python\n",
    "Copy code\n",
    "def sherlockAndAnagrams(s: str) -> int:\n",
    "    pass\n",
    "Input Format:\n",
    "\n",
    "A string s consisting of lowercase letters.\n",
    "Output Format:\n",
    "\n",
    "An integer representing the count of anagram pairs.\n",
    "Constraints:\n",
    "\n",
    "2 <= len(s) <= 100\n",
    "The string s consists of lowercase letters (a-z).\n",
    "Example:\n",
    "\n",
    "python\n",
    "Copy code\n",
    "print(sherlockAndAnagrams(\"abba\"))  # Output: 4\n",
    "print(sherlockAndAnagrams(\"abcd\"))  # Output: 0\n",
    "print(sherlockAndAnagrams(\"ifailuhkqq\"))  # Output: 3\n",
    "Note:\n",
    "\n",
    "In the first example, the anagram pairs are (\"a\", \"a\"), (\"ab\", \"ba\"), (\"b\", \"b\"), and (\"abb\", \"bba\").\n",
    "In the second example, there are no anagram pairs possible.\n",
    "In the third example, the anagram pairs are (\"ifa\", \"fai\"), (\"qqu\", \"uqq\"), and (\"ifa\", \"afi\")."
   ]
  },
  {
   "cell_type": "code",
   "execution_count": 24,
   "metadata": {},
   "outputs": [
    {
     "name": "stdout",
     "output_type": "stream",
     "text": [
      "4\n",
      "0\n",
      "3\n",
      "5\n",
      "2\n",
      "5\n",
      "3\n",
      "10\n"
     ]
    }
   ],
   "source": [
    "#it will takes a string and returns an int \n",
    "def sherlockAndAnagrams(s: str) -> int:\n",
    "    anagram_pairs = 0\n",
    "    substrings = {}\n",
    "\n",
    "\n",
    "    for i in range(len(s)):\n",
    "        # this is because representing the frequency of each lowercase letter in the string\n",
    "        freq = [0] * 26\n",
    "        for j in range(i, len(s)):\n",
    "            freq[ord(s[j]) - ord('a')] += 1\n",
    "            hash_value = hash(tuple(freq))\n",
    "            substrings[hash_value] = substrings.get(hash_value, 0) + 1\n",
    "\n",
    "    for count in substrings.values():\n",
    "        anagram_pairs += count * (count - 1) // 2\n",
    "\n",
    "    return anagram_pairs\n",
    "\n",
    "print(sherlockAndAnagrams(\"abba\")) \n",
    "print(sherlockAndAnagrams(\"abcd\")) \n",
    "print(sherlockAndAnagrams(\"ifailuhkqq\"))  \n",
    "print(sherlockAndAnagrams(\"cdcd\"))  \n",
    "print(sherlockAndAnagrams(\"mom\"))  \n",
    "print(sherlockAndAnagrams(\"abab\")) \n",
    "print(sherlockAndAnagrams(\"ifailuhkqq\"))  \n",
    "print(sherlockAndAnagrams(\"kkkk\")) "
   ]
  },
  {
   "cell_type": "code",
   "execution_count": 53,
   "metadata": {},
   "outputs": [
    {
     "name": "stdout",
     "output_type": "stream",
     "text": [
      "hsenij\n"
     ]
    }
   ],
   "source": [
    "def reverse_string(string):\n",
    "    c = list(string) \n",
    "    \n",
    "    i = 0\n",
    "    j = len(c) - 1\n",
    "\n",
    "    while i < j:\n",
    "        c[i], c[j] = c[j], c[i]\n",
    "        i += 1\n",
    "        j -= 1\n",
    "\n",
    "    reversed_string = ''.join(c) \n",
    "    return reversed_string\n",
    "\n",
    "print(reverse_string(\"jinesh\")) "
   ]
  },
  {
   "cell_type": "code",
   "execution_count": 54,
   "metadata": {},
   "outputs": [
    {
     "name": "stdout",
     "output_type": "stream",
     "text": [
      "4\n"
     ]
    }
   ],
   "source": [
    "#input = [10,9,2,4,3,5,7,101,18]\n",
    "#output = [2,3,7,101]\n",
    "\n",
    "def longest_increasing_subsequence(nums):\n",
    "    n = len(nums)\n",
    "    dp = [1] * n\n",
    "\n",
    "    for i in range(1, n):\n",
    "        for j in range(i):\n",
    "            if nums[i] > nums[j]:\n",
    "                dp[i] = max(dp[i], dp[j] + 1)\n",
    "    return max(dp)\n",
    "\n",
    "print(longest_increasing_subsequence([10,9,2,5,3,7,101,18]))"
   ]
  },
  {
   "cell_type": "code",
   "execution_count": 65,
   "metadata": {},
   "outputs": [
    {
     "name": "stdout",
     "output_type": "stream",
     "text": [
      "fto ehg ee db\n"
     ]
    }
   ],
   "source": [
    "import math\n",
    "def encryption(s):\n",
    "    # Write your code here\n",
    "    s = s.replace(' ', '')\n",
    "    sqrt = math.sqrt(len(s))    \n",
    "    c = math.ceil(sqrt)\n",
    "    dictS = {}\n",
    "    for i in range(c):\n",
    "        dictS[i] = ''\n",
    "    for i,x in enumerate(s):\n",
    "        dictS[i%c] += x\n",
    "    \n",
    "    return ' '.join(dictS.values()) \n",
    "\n",
    "print(encryption(\"feedthebog\"))"
   ]
  },
  {
   "cell_type": "code",
   "execution_count": 81,
   "metadata": {},
   "outputs": [
    {
     "name": "stdout",
     "output_type": "stream",
     "text": [
      "twenty nine minutes past seven\n"
     ]
    }
   ],
   "source": [
    "def timeInWords(h, m):\n",
    "    units = {\n",
    "        1: \"one\", 2: \"two\", 3: \"three\", 4: \"four\", 5: \"five\", 6: \"six\", \n",
    "        7: \"seven\", 8: \"eight\", 9: \"nine\"\n",
    "    }\n",
    "    tens = {\n",
    "        1: \"ten\", 2: \"twenty\"\n",
    "    }\n",
    "    special_cases = {\n",
    "        11: \"eleven\", 12: \"twelve\", 13: \"thirteen\", 14: \"fourteen\", \n",
    "        15: \"quarter\", 16: \"sixteen\", 17: \"seventeen\", 18: \"eighteen\", \n",
    "        19: \"nineteen\", 30: \"half\"\n",
    "    }\n",
    "\n",
    "    if m <= 30:\n",
    "        prep = \"past\"\n",
    "    else:\n",
    "        prep = \"to\"\n",
    "        m = 60 - m\n",
    "        h += 1\n",
    "\n",
    "    if m in special_cases:\n",
    "        m_text = special_cases[m]\n",
    "    else:\n",
    "        m_tens = tens[m // 10] if m >= 20 else \"\"\n",
    "        m_units = units[m % 10] if m % 10 > 0 else \"\"\n",
    "        m_text = m_tens + \" \" + m_units\n",
    "\n",
    "    if h in special_cases:\n",
    "        h_text = special_cases[h]\n",
    "    else:\n",
    "        h_tens = tens[h // 10] if h >= 20 else \"\"\n",
    "        h_units = units[h % 10] if h % 10 > 0 else \"\"\n",
    "        h_text = h_tens +\" \"+ h_units\n",
    "\n",
    "    if m == 0:\n",
    "        return f\"{h_text} o'clock\"\n",
    "    elif m == 15 or m == 30:\n",
    "        return f\"{m_text} {prep}{h_text}\"\n",
    "    elif m == 1:\n",
    "        return f\"{m_text} minute {prep}{h_text}\"\n",
    "    else:\n",
    "        return f\"{m_text} minutes {prep}{h_text}\"\n",
    "\n",
    "print(timeInWords(7,29))"
   ]
  }
 ],
 "metadata": {
  "kernelspec": {
   "display_name": "Python 3",
   "language": "python",
   "name": "python3"
  },
  "language_info": {
   "codemirror_mode": {
    "name": "ipython",
    "version": 3
   },
   "file_extension": ".py",
   "mimetype": "text/x-python",
   "name": "python",
   "nbconvert_exporter": "python",
   "pygments_lexer": "ipython3",
   "version": "3.11.3"
  },
  "orig_nbformat": 4
 },
 "nbformat": 4,
 "nbformat_minor": 2
}
