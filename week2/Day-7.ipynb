{
 "cells": [
  {
   "cell_type": "code",
   "execution_count": 1,
   "metadata": {},
   "outputs": [
    {
     "name": "stdout",
     "output_type": "stream",
     "text": [
      "Dog is barking\n",
      "Cat is meowing\n",
      "Dog is barking\n",
      "Cat is meowing\n",
      "Cat is meowing\n"
     ]
    }
   ],
   "source": [
    "#polymorphism\n",
    "class Animal:\n",
    "    def sound(self):\n",
    "        print(\"Animal is making a sound\")\n",
    "\n",
    "class Dog(Animal):\n",
    "    def sound(Animal):\n",
    "        print(\"Dog is barking\")\n",
    "\n",
    "class Cat(Animal):\n",
    "    def sound(Animal):\n",
    "        print(\"Cat is meowing\")\n",
    "\n",
    "animals = [Dog(), Cat(), Dog(), Cat(), Cat()]\n",
    "\n",
    "for animal in animals:\n",
    "    animal.sound()\n"
   ]
  },
  {
   "cell_type": "code",
   "execution_count": 5,
   "metadata": {},
   "outputs": [
    {
     "name": "stdout",
     "output_type": "stream",
     "text": [
      "C is foo\n",
      "[<class '__main__.D'>, <class '__main__.C'>, <class '__main__.B'>, <class '__main__.A'>, <class 'object'>]\n"
     ]
    }
   ],
   "source": [
    "#method resolution order\n",
    "class A:\n",
    "    def foo(self):\n",
    "        print(\"A is foo\")\n",
    "\n",
    "class B(A):\n",
    "    def foo(self):\n",
    "        print(\"B is foo\")\n",
    "\n",
    "class C(A):\n",
    "    def foo(self):\n",
    "        print(\"C is foo\")\n",
    "\n",
    "#it will read from left to right\n",
    "class D(C, B):\n",
    "    pass\n",
    "\n",
    "#left to right\n",
    "d = D()\n",
    "d.foo()\n",
    "\n",
    "#MRO\n",
    "print(D.mro())"
   ]
  },
  {
   "cell_type": "code",
   "execution_count": 7,
   "metadata": {},
   "outputs": [
    {
     "name": "stdout",
     "output_type": "stream",
     "text": [
      "5\n",
      "2\n",
      "9\n"
     ]
    }
   ],
   "source": [
    "#a method with different set of parameters is called method overloading\n",
    "class MathOperation:\n",
    "    def add(self,x,y=None,z=None):\n",
    "        if y is not None and z is not None:\n",
    "            return x + y + z\n",
    "        elif y is not None:\n",
    "            return x+y\n",
    "        else:\n",
    "            return x\n",
    "        \n",
    "math_ops = MathOperation()\n",
    "print(math_ops.add(2,3))\n",
    "print(math_ops.add(2))\n",
    "print(math_ops.add(2,3,4))\n"
   ]
  },
  {
   "cell_type": "code",
   "execution_count": 8,
   "metadata": {},
   "outputs": [
    {
     "name": "stdout",
     "output_type": "stream",
     "text": [
      "5\n",
      "2\n"
     ]
    }
   ],
   "source": [
    "class MathOperation:\n",
    "    def add(self, *args):\n",
    "        return sum(args)\n",
    "    \n",
    "class B(MathOperation):\n",
    "    def add(self, *args):\n",
    "        return sum(args)\n",
    "\n",
    "class C(B):\n",
    "    def add(self, *args):\n",
    "        return sum(args)\n",
    "    \n",
    "math_ops = B()\n",
    "print(math_ops.add(2,3))\n",
    "print(math_ops.add(2))"
   ]
  },
  {
   "cell_type": "code",
   "execution_count": 11,
   "metadata": {},
   "outputs": [
    {
     "name": "stdout",
     "output_type": "stream",
     "text": [
      "6\n",
      "24\n"
     ]
    }
   ],
   "source": [
    "from multipledispatch import dispatch\n",
    "\n",
    "class Demo:\n",
    "    @dispatch(int, int)\n",
    "    def product(self, a, b):\n",
    "        p = a * b\n",
    "        print(p)\n",
    "    @dispatch(int, int, int)\n",
    "    def product(self, a, b, c):\n",
    "        p = a * b * c\n",
    "        print(p)\n",
    "    \n",
    "d=Demo()\n",
    "d.product(2,3)\n",
    "d.product(2,3,4)\n"
   ]
  },
  {
   "cell_type": "code",
   "execution_count": 17,
   "metadata": {},
   "outputs": [
    {
     "name": "stdout",
     "output_type": "stream",
     "text": [
      "John\n",
      "False\n"
     ]
    }
   ],
   "source": [
    "from dataclasses import dataclass\n",
    "from typing import List\n",
    "\n",
    "@dataclass\n",
    "class Person:\n",
    "    name: str\n",
    "    age: int\n",
    "    email: str\n",
    "    hobbies:List[str]=None\n",
    "\n",
    "person1 = Person(\"John\", 36, \"alice@gmail.com\",['reading','writing'])\n",
    "person2 = Person(\"John\", 36, \"john@gmail.com\")\n",
    "print(person1.name)\n",
    "print(person1 == person2)\n"
   ]
  },
  {
   "cell_type": "code",
   "execution_count": 21,
   "metadata": {},
   "outputs": [
    {
     "name": "stdout",
     "output_type": "stream",
     "text": [
      "You cannot divide a number by zero\n"
     ]
    }
   ],
   "source": [
    "n = int(input(\"Enter the number of elements to be inserted: \"))\n",
    "\n",
    "try:\n",
    "    x = n/0\n",
    "except ZeroDivisionError:\n",
    "    print(\"You cannot divide a number by zero\")\n",
    "except Exception as e:\n",
    "    print(str(e)) "
   ]
  },
  {
   "cell_type": "code",
   "execution_count": 23,
   "metadata": {},
   "outputs": [
    {
     "name": "stdout",
     "output_type": "stream",
     "text": [
      "I will always run\n"
     ]
    }
   ],
   "source": [
    "def calculate_square_root(num):\n",
    "    if num < 0:\n",
    "        raise ValueError(\"Negative value provided\")\n",
    "    else:\n",
    "        return num ** 0.5\n",
    "    \n",
    "try:\n",
    "    calculate_square_root(4)\n",
    "except ValueError as e:\n",
    "    print(str(e))\n",
    "finally:\n",
    "    print(\"I will always run\")\n"
   ]
  },
  {
   "cell_type": "code",
   "execution_count": 24,
   "metadata": {},
   "outputs": [
    {
     "name": "stdout",
     "output_type": "stream",
     "text": [
      "My custom error\n"
     ]
    }
   ],
   "source": [
    "#writing my own exception by extending the Exception class\n",
    "class Customerror(Exception):\n",
    "    pass\n",
    "try:\n",
    "    raise Customerror(\"My custom error\")\n",
    "except Customerror as e:\n",
    "    print(str(e))"
   ]
  },
  {
   "cell_type": "code",
   "execution_count": 36,
   "metadata": {},
   "outputs": [],
   "source": [
    "file = open(\"C:/Desktop/Wiley Edge Notes/Python/file456.txt\", \"r\")"
   ]
  },
  {
   "cell_type": "code",
   "execution_count": 35,
   "metadata": {},
   "outputs": [
    {
     "name": "stdout",
     "output_type": "stream",
     "text": [
      "sdsdsafDFd\n"
     ]
    }
   ],
   "source": [
    "with open(\"C:/Desktop/Wiley Edge Notes/Python/file456.txt\") as f:\n",
    "    print(f.read())"
   ]
  },
  {
   "cell_type": "code",
   "execution_count": 40,
   "metadata": {},
   "outputs": [
    {
     "name": "stdout",
     "output_type": "stream",
     "text": [
      "sdsdsafDFd\n"
     ]
    }
   ],
   "source": [
    "try:\n",
    "    with  open(\"C:/Desktop/Wiley Edge Notes/Python/file456.txt\", \"r\") as file:\n",
    "        print(file.read())\n",
    "except FileNotFoundError as e:\n",
    "    print(str(e))\n",
    "except IOError as e:\n",
    "    print(str(e))"
   ]
  },
  {
   "cell_type": "code",
   "execution_count": 42,
   "metadata": {},
   "outputs": [
    {
     "name": "stdout",
     "output_type": "stream",
     "text": [
      "Email is valid\n"
     ]
    }
   ],
   "source": [
    "class EmailError(Exception):\n",
    "    def __init__(self, message):\n",
    "        self.message = message\n",
    "\n",
    "    def __str__(self):\n",
    "        return \"invalid email id\" + self.message\n",
    "    \n",
    "try:\n",
    "    email = input(\"Enter your email id: \")\n",
    "    if \"@gmail.com\" not in email:\n",
    "        raise EmailError(email)\n",
    "    else:\n",
    "        print(\"Email is valid\")\n",
    "except EmailError as e:\n",
    "    print(str(e))"
   ]
  },
  {
   "cell_type": "code",
   "execution_count": 43,
   "metadata": {},
   "outputs": [],
   "source": [
    "#data stream operation on the file\n",
    "#writing to a file \n",
    "with open(\"C:/Desktop/Wiley Edge Notes/Python/file456.txt\", \"w\") as file:\n",
    "    file.write(\"Hello World\")\n",
    "    "
   ]
  },
  {
   "cell_type": "code",
   "execution_count": 45,
   "metadata": {},
   "outputs": [
    {
     "name": "stdout",
     "output_type": "stream",
     "text": [
      "Hello World\n"
     ]
    }
   ],
   "source": [
    "try:\n",
    "    with open(\"C:/Desktop/Wiley Edge Notes/Python/file456.txt\", \"r\") as file:\n",
    "        for line in file:\n",
    "            print(line.rstrip())\n",
    "except  IOError as e:\n",
    "    print(str(e))"
   ]
  },
  {
   "cell_type": "code",
   "execution_count": 47,
   "metadata": {},
   "outputs": [
    {
     "name": "stdout",
     "output_type": "stream",
     "text": [
      "Hello\\ World\n"
     ]
    }
   ],
   "source": [
    "#relational Expressions\n",
    "import re\n",
    "print(re.escape(\"Hello World\"))\n"
   ]
  },
  {
   "cell_type": "code",
   "execution_count": 54,
   "metadata": {},
   "outputs": [
    {
     "name": "stdout",
     "output_type": "stream",
     "text": [
      "('Hello Universe', 1)\n",
      "('S~*ject has ~*er booked already', 2)\n",
      "('S~*ject has ~*er booked already', 2)\n",
      "('SUBject has Uber booked already', 0)\n",
      "2\n",
      "S~*ject has ~*er booked already\n"
     ]
    }
   ],
   "source": [
    "print(re.subn(\"World\", \"Universe\", \"Hello World\"))\n",
    "\n",
    "t = re.subn('ub','~*','Subject has Uber booked already',flags = re.IGNORECASE)\n",
    "t1 = re.subn('ub','~*','SUBject has Uber booked already',flags = re.IGNORECASE)\n",
    "t2 = re.subn('ub','~*','SUBject has Uber booked already')\n",
    "\n",
    "print(t)\n",
    "print(t1)\n",
    "print(t2)\n",
    "print(len(t))\n",
    "\n",
    "print(t[0])"
   ]
  },
  {
   "cell_type": "code",
   "execution_count": 53,
   "metadata": {},
   "outputs": [
    {
     "name": "stdout",
     "output_type": "stream",
     "text": [
      "This \"is a\" string\n"
     ]
    }
   ],
   "source": [
    "val = \"This \\\"is a\\\" string\"\n",
    "print(val)"
   ]
  },
  {
   "cell_type": "code",
   "execution_count": 55,
   "metadata": {},
   "outputs": [
    {
     "name": "stdout",
     "output_type": "stream",
     "text": [
      "Match at index 14, 21\n",
      "Full match: June 24\n",
      "Month: June\n",
      "Day: 24\n"
     ]
    }
   ],
   "source": [
    "import re\n",
    "regex = r\"([a-zA-Z]+) (\\d+)\"\n",
    "match = re.search(regex, \"I was born on June 24\")\n",
    "if match != None:\n",
    "    print(\"Match at index %s, %s\" % (match.start(), match.end()))\n",
    "    print(\"Full match: %s\" % (match.group(0)))\n",
    "    print(\"Month: %s\" % (match.group(1)))\n",
    "    print(\"Day: %s\" % (match.group(2)))\n",
    "else:\n",
    "    print(\"The regex pattern does not match.\")\n",
    "    "
   ]
  },
  {
   "cell_type": "code",
   "execution_count": 60,
   "metadata": {},
   "outputs": [
    {
     "name": "stdout",
     "output_type": "stream",
     "text": [
      "Match!\n"
     ]
    }
   ],
   "source": [
    "import re\n",
    "pattern = r\"Jinesh is typing \\d+ [a-z]+ Python\"\n",
    "match = re.findall(pattern, \"Jinesh is typing 123 keywords Python\")\n",
    "if match:\n",
    "    print(\"Match!\")"
   ]
  },
  {
   "cell_type": "code",
   "execution_count": 2,
   "metadata": {},
   "outputs": [
    {
     "ename": "error",
     "evalue": "unbalanced parenthesis at position 13",
     "output_type": "error",
     "traceback": [
      "\u001b[1;31m---------------------------------------------------------------------------\u001b[0m",
      "\u001b[1;31merror\u001b[0m                                     Traceback (most recent call last)",
      "Cell \u001b[1;32mIn[2], line 5\u001b[0m\n\u001b[0;32m      3\u001b[0m text \u001b[39m=\u001b[39m \u001b[39m\"\u001b[39m\u001b[39mJinesh is typing 123 keywords Python\u001b[39m\u001b[39m\"\u001b[39m\n\u001b[0;32m      4\u001b[0m pattern \u001b[39m=\u001b[39m \u001b[39mr\u001b[39m\u001b[39m\"\u001b[39m\u001b[39m\\\u001b[39m\u001b[39mb\u001b[39m\u001b[39m\\\u001b[39m\u001b[39m([a-zA-Z]+)\u001b[39m\u001b[39m\\\u001b[39m\u001b[39mb\u001b[39m\u001b[39m\"\u001b[39m\n\u001b[1;32m----> 5\u001b[0m match \u001b[39m=\u001b[39m re\u001b[39m.\u001b[39;49mfindall(pattern, text)\n\u001b[0;32m      6\u001b[0m \u001b[39mif\u001b[39;00m match:\n\u001b[0;32m      7\u001b[0m     \u001b[39mfor\u001b[39;00m i \u001b[39min\u001b[39;00m \u001b[39mrange\u001b[39m(\u001b[39mmin\u001b[39m(\u001b[39m3\u001b[39m, \u001b[39mlen\u001b[39m(match))):\n",
      "File \u001b[1;32mc:\\Users\\devap\\AppData\\Local\\Programs\\Python\\Python311\\Lib\\re\\__init__.py:216\u001b[0m, in \u001b[0;36mfindall\u001b[1;34m(pattern, string, flags)\u001b[0m\n\u001b[0;32m    208\u001b[0m \u001b[39mdef\u001b[39;00m \u001b[39mfindall\u001b[39m(pattern, string, flags\u001b[39m=\u001b[39m\u001b[39m0\u001b[39m):\n\u001b[0;32m    209\u001b[0m \u001b[39m    \u001b[39m\u001b[39m\"\"\"Return a list of all non-overlapping matches in the string.\u001b[39;00m\n\u001b[0;32m    210\u001b[0m \n\u001b[0;32m    211\u001b[0m \u001b[39m    If one or more capturing groups are present in the pattern, return\u001b[39;00m\n\u001b[1;32m   (...)\u001b[0m\n\u001b[0;32m    214\u001b[0m \n\u001b[0;32m    215\u001b[0m \u001b[39m    Empty matches are included in the result.\"\"\"\u001b[39;00m\n\u001b[1;32m--> 216\u001b[0m     \u001b[39mreturn\u001b[39;00m _compile(pattern, flags)\u001b[39m.\u001b[39mfindall(string)\n",
      "File \u001b[1;32mc:\\Users\\devap\\AppData\\Local\\Programs\\Python\\Python311\\Lib\\re\\__init__.py:294\u001b[0m, in \u001b[0;36m_compile\u001b[1;34m(pattern, flags)\u001b[0m\n\u001b[0;32m    288\u001b[0m     \u001b[39mimport\u001b[39;00m \u001b[39mwarnings\u001b[39;00m\n\u001b[0;32m    289\u001b[0m     warnings\u001b[39m.\u001b[39mwarn(\u001b[39m\"\u001b[39m\u001b[39mThe re.TEMPLATE/re.T flag is deprecated \u001b[39m\u001b[39m\"\u001b[39m\n\u001b[0;32m    290\u001b[0m               \u001b[39m\"\u001b[39m\u001b[39mas it is an undocumented flag \u001b[39m\u001b[39m\"\u001b[39m\n\u001b[0;32m    291\u001b[0m               \u001b[39m\"\u001b[39m\u001b[39mwithout an obvious purpose. \u001b[39m\u001b[39m\"\u001b[39m\n\u001b[0;32m    292\u001b[0m               \u001b[39m\"\u001b[39m\u001b[39mDon\u001b[39m\u001b[39m'\u001b[39m\u001b[39mt use it.\u001b[39m\u001b[39m\"\u001b[39m,\n\u001b[0;32m    293\u001b[0m               \u001b[39mDeprecationWarning\u001b[39;00m)\n\u001b[1;32m--> 294\u001b[0m p \u001b[39m=\u001b[39m _compiler\u001b[39m.\u001b[39;49mcompile(pattern, flags)\n\u001b[0;32m    295\u001b[0m \u001b[39mif\u001b[39;00m \u001b[39mnot\u001b[39;00m (flags \u001b[39m&\u001b[39m DEBUG):\n\u001b[0;32m    296\u001b[0m     \u001b[39mif\u001b[39;00m \u001b[39mlen\u001b[39m(_cache) \u001b[39m>\u001b[39m\u001b[39m=\u001b[39m _MAXCACHE:\n\u001b[0;32m    297\u001b[0m         \u001b[39m# Drop the oldest item\u001b[39;00m\n",
      "File \u001b[1;32mc:\\Users\\devap\\AppData\\Local\\Programs\\Python\\Python311\\Lib\\re\\_compiler.py:743\u001b[0m, in \u001b[0;36mcompile\u001b[1;34m(p, flags)\u001b[0m\n\u001b[0;32m    741\u001b[0m \u001b[39mif\u001b[39;00m isstring(p):\n\u001b[0;32m    742\u001b[0m     pattern \u001b[39m=\u001b[39m p\n\u001b[1;32m--> 743\u001b[0m     p \u001b[39m=\u001b[39m _parser\u001b[39m.\u001b[39;49mparse(p, flags)\n\u001b[0;32m    744\u001b[0m \u001b[39melse\u001b[39;00m:\n\u001b[0;32m    745\u001b[0m     pattern \u001b[39m=\u001b[39m \u001b[39mNone\u001b[39;00m\n",
      "File \u001b[1;32mc:\\Users\\devap\\AppData\\Local\\Programs\\Python\\Python311\\Lib\\re\\_parser.py:985\u001b[0m, in \u001b[0;36mparse\u001b[1;34m(str, flags, state)\u001b[0m\n\u001b[0;32m    983\u001b[0m \u001b[39mif\u001b[39;00m source\u001b[39m.\u001b[39mnext \u001b[39mis\u001b[39;00m \u001b[39mnot\u001b[39;00m \u001b[39mNone\u001b[39;00m:\n\u001b[0;32m    984\u001b[0m     \u001b[39massert\u001b[39;00m source\u001b[39m.\u001b[39mnext \u001b[39m==\u001b[39m \u001b[39m\"\u001b[39m\u001b[39m)\u001b[39m\u001b[39m\"\u001b[39m\n\u001b[1;32m--> 985\u001b[0m     \u001b[39mraise\u001b[39;00m source\u001b[39m.\u001b[39merror(\u001b[39m\"\u001b[39m\u001b[39munbalanced parenthesis\u001b[39m\u001b[39m\"\u001b[39m)\n\u001b[0;32m    987\u001b[0m \u001b[39mfor\u001b[39;00m g \u001b[39min\u001b[39;00m p\u001b[39m.\u001b[39mstate\u001b[39m.\u001b[39mgrouprefpos:\n\u001b[0;32m    988\u001b[0m     \u001b[39mif\u001b[39;00m g \u001b[39m>\u001b[39m\u001b[39m=\u001b[39m p\u001b[39m.\u001b[39mstate\u001b[39m.\u001b[39mgroups:\n",
      "\u001b[1;31merror\u001b[0m: unbalanced parenthesis at position 13"
     ]
    }
   ],
   "source": [
    "import re\n",
    "\n",
    "text = \"Jinesh is typing 123 keywords Python\"\n",
    "pattern = r\"\\b\\([a-zA-Z]+)\\b\"\n",
    "match = re.findall(pattern, text)\n",
    "if match:\n",
    "    for i in range(min(3, len(match))):\n",
    "        print(\"Match %s\" % (match[i]))\n",
    "else:\n",
    "    print(\"The regex pattern does not match.\")"
   ]
  }
 ],
 "metadata": {
  "kernelspec": {
   "display_name": "Python 3",
   "language": "python",
   "name": "python3"
  },
  "language_info": {
   "codemirror_mode": {
    "name": "ipython",
    "version": 3
   },
   "file_extension": ".py",
   "mimetype": "text/x-python",
   "name": "python",
   "nbconvert_exporter": "python",
   "pygments_lexer": "ipython3",
   "version": "3.11.3"
  },
  "orig_nbformat": 4
 },
 "nbformat": 4,
 "nbformat_minor": 2
}
