{
 "cells": [
  {
   "cell_type": "code",
   "execution_count": 7,
   "metadata": {},
   "outputs": [
    {
     "name": "stdout",
     "output_type": "stream",
     "text": [
      "<class '__main__.Book'>\n",
      "<class '__main__.Book'>\n",
      "True\n",
      "False\n",
      "True\n",
      "True\n"
     ]
    }
   ],
   "source": [
    "#using two classes\n",
    "class Book:\n",
    "    def __init__(self, title):\n",
    "        self.title = title\n",
    "\n",
    "class newspaper:\n",
    "    def __init__(self, name):\n",
    "        self.name = name\n",
    "\n",
    "b1 = Book(\"The C Programming Language\")\n",
    "b2 = Book(\"Python Crash Course\")\n",
    "\n",
    "n1 = newspaper(\"The Hindu\")\n",
    "n2 = newspaper(\"The Indian Express\")\n",
    "\n",
    "print(type(b1))\n",
    "print(type(b2))\n",
    "\n",
    "print(type(n1)==type(n2))\n",
    "\n",
    "print(isinstance(n2, Book))\n",
    "print(isinstance(n2,object))\n",
    "\n",
    "print(isinstance(b1, Book))"
   ]
  },
  {
   "cell_type": "code",
   "execution_count": 4,
   "metadata": {},
   "outputs": [
    {
     "name": "stdout",
     "output_type": "stream",
     "text": [
      "The red BMW is accelerating\n",
      "The red BMW is braking\n",
      "The red BMW is honking\n",
      "The black Harley Davidson is popping a wheelie\n"
     ]
    }
   ],
   "source": [
    "class vehicle:\n",
    "    def __init__(self, brand, color):\n",
    "        self.brand = brand\n",
    "        self.color = color\n",
    "\n",
    "    def accelerate(self):\n",
    "        print(f\"The {self.color} {self.brand} is accelerating\")\n",
    "\n",
    "    def brake(self):\n",
    "        print(f\"The {self.color} {self.brand} is braking\")\n",
    "\n",
    "#parent of car is vehicle\n",
    "class car(vehicle):\n",
    "    def __init__(self, brand, color, doors):\n",
    "        super().__init__(brand, color)\n",
    "        self.doors = doors\n",
    "\n",
    "    def honk(self):\n",
    "        print(f\"The {self.color} {self.brand} is honking\")\n",
    "\n",
    "class Motorcycle(vehicle):\n",
    "    def __init__(self, brand, color):\n",
    "        super().__init__(brand, color)\n",
    "\n",
    "    def wheelie(self):\n",
    "        print(f\"The {self.color} {self.brand} is popping a wheelie\")\n",
    "\n",
    "mycar = car(\"BMW\", \"red\", 4)\n",
    "mymotorcycle = Motorcycle(\"Harley Davidson\", \"black\")\n",
    "\n",
    "#these would call base class methods\n",
    "mycar.accelerate()\n",
    "mycar.brake()\n",
    "\n",
    "#derived class methods would be called\n",
    "mycar.honk()\n",
    "mymotorcycle.wheelie()"
   ]
  },
  {
   "cell_type": "code",
   "execution_count": 5,
   "metadata": {},
   "outputs": [
    {
     "name": "stdout",
     "output_type": "stream",
     "text": [
      "Donald is eating\n",
      "Donald is flying\n",
      "Donald is swimming\n",
      "Pinqu is eating\n",
      "Pinqu is swimming\n"
     ]
    }
   ],
   "source": [
    "#multiple inheritance example\n",
    "\n",
    "class Animal:\n",
    "    def __init__(self, name):\n",
    "        self.name = name\n",
    "\n",
    "    def eat(self):\n",
    "        print(f\"{self.name} is eating\")\n",
    "\n",
    "class CanFly:\n",
    "    def fly(self):\n",
    "        print(f\"{self.name} is flying\")\n",
    "\n",
    "class CanSwim:\n",
    "    def swim(self):\n",
    "        print(f\"{self.name} is swimming\")\n",
    "\n",
    "class Duck(Animal, CanSwim):\n",
    "    def __init__(self, name):\n",
    "        super().__init__(name)\n",
    "\n",
    "class Duck(Animal, CanSwim, CanFly):\n",
    "    def __init__(self, name):\n",
    "        super().__init__(name)\n",
    "\n",
    "class Penquin(Animal,CanSwim):\n",
    "    def __init__(self, name):\n",
    "        super().__init__(name)\n",
    "\n",
    "donald = Duck(\"Donald\")\n",
    "pinqu = Penquin(\"Pinqu\")\n",
    "\n",
    "donald.eat()\n",
    "donald.fly()\n",
    "donald.swim()\n",
    "\n",
    "pinqu.eat()\n",
    "pinqu.swim()\n"
   ]
  },
  {
   "cell_type": "code",
   "execution_count": 7,
   "metadata": {},
   "outputs": [
    {
     "name": "stdout",
     "output_type": "stream",
     "text": [
      "11\n"
     ]
    }
   ],
   "source": [
    "#lambda\n",
    "\n",
    "add = lambda x,y: x+y\n",
    "result = add(5,6)\n",
    "print(result)"
   ]
  },
  {
   "cell_type": "code",
   "execution_count": 9,
   "metadata": {},
   "outputs": [
    {
     "name": "stdout",
     "output_type": "stream",
     "text": [
      "[2, 4, 6, 8, 10]\n"
     ]
    }
   ],
   "source": [
    "number = [1,2,3,4,5,6,7,8,9,10]\n",
    "even = list(filter(lambda x: x%2==0, number))\n",
    "print(even)"
   ]
  },
  {
   "cell_type": "code",
   "execution_count": 13,
   "metadata": {},
   "outputs": [
    {
     "name": "stdout",
     "output_type": "stream",
     "text": [
      "[('charlie', 80), ('bob', 85), ('Alice', 90)]\n"
     ]
    }
   ],
   "source": [
    "students = [(\"Alice\", 90),(\"bob\",85),(\"charlie\",80)]\n",
    "sort = sorted(students, key=lambda x: x[1])\n",
    "print(sort)"
   ]
  },
  {
   "cell_type": "code",
   "execution_count": 14,
   "metadata": {},
   "outputs": [
    {
     "name": "stdout",
     "output_type": "stream",
     "text": [
      "[1, 4, 9, 16, 25, 36, 49, 64, 81, 100]\n"
     ]
    }
   ],
   "source": [
    "numbers = [1,2,3,4,5,6,7,8,9,10]\n",
    "squares = list(map(lambda x: x**2, numbers))\n",
    "print(squares)"
   ]
  },
  {
   "cell_type": "code",
   "execution_count": 16,
   "metadata": {},
   "outputs": [
    {
     "name": "stdout",
     "output_type": "stream",
     "text": [
      "[('Alice', 20), ('bob', 25), ('charlie', 30), ('david', 35), ('eve', 40)]\n",
      "['Alice is 20', 'bob is 25', 'charlie is 30', 'david is 35', 'eve is 40']\n"
     ]
    }
   ],
   "source": [
    "names = [\"Alice\", \"bob\", \"charlie\", \"david\", \"eve\"]\n",
    "ages = [20, 25, 30, 35, 40]\n",
    "combine = list(zip(names, ages))\n",
    "print(combine)\n",
    "format = list(map(lambda x: f\"{x[0]} is {x[1]}\", combine))\n",
    "print(format)"
   ]
  },
  {
   "cell_type": "code",
   "execution_count": 17,
   "metadata": {},
   "outputs": [
    {
     "name": "stdout",
     "output_type": "stream",
     "text": [
      "25\n",
      "125\n"
     ]
    }
   ],
   "source": [
    "def power_function(n):\n",
    "    return lambda x: x**n\n",
    "\n",
    "square = power_function(2)\n",
    "cube = power_function(3)\n",
    "\n",
    "print(square(5))\n",
    "print(cube(5))"
   ]
  },
  {
   "cell_type": "code",
   "execution_count": 20,
   "metadata": {},
   "outputs": [
    {
     "name": "stdout",
     "output_type": "stream",
     "text": [
      "This is a static method\n"
     ]
    }
   ],
   "source": [
    "class MyClass:\n",
    "    @staticmethod\n",
    "    def my_static_method():\n",
    "        print(\"This is a static method\")\n",
    "\n",
    "MyClass.my_static_method()\n"
   ]
  },
  {
   "cell_type": "code",
   "execution_count": 21,
   "metadata": {},
   "outputs": [
    {
     "name": "stdout",
     "output_type": "stream",
     "text": [
      "120\n"
     ]
    }
   ],
   "source": [
    "#factorial\n",
    "\n",
    "from functools import reduce\n",
    "def factorial(n):\n",
    "    return reduce(lambda x,y: x*y, range(1,n+1))\n",
    "\n",
    "print(factorial(5))"
   ]
  },
  {
   "cell_type": "code",
   "execution_count": 1,
   "metadata": {},
   "outputs": [
    {
     "name": "stdout",
     "output_type": "stream",
     "text": [
      "3\n"
     ]
    }
   ],
   "source": [
    "class MyClass:\n",
    "    count =0\n",
    "    def __init__(self):\n",
    "        MyClass.count +=1\n",
    "\n",
    "    @classmethod\n",
    "    def get_count(cls):\n",
    "        return MyClass.count\n",
    "    \n",
    "obj1 = MyClass()\n",
    "obj2 = MyClass()\n",
    "obj3 = MyClass()\n",
    "cont = MyClass.get_count()\n",
    "print(cont)"
   ]
  }
 ],
 "metadata": {
  "kernelspec": {
   "display_name": "Python 3",
   "language": "python",
   "name": "python3"
  },
  "language_info": {
   "codemirror_mode": {
    "name": "ipython",
    "version": 3
   },
   "file_extension": ".py",
   "mimetype": "text/x-python",
   "name": "python",
   "nbconvert_exporter": "python",
   "pygments_lexer": "ipython3",
   "version": "3.11.3"
  },
  "orig_nbformat": 4
 },
 "nbformat": 4,
 "nbformat_minor": 2
}
