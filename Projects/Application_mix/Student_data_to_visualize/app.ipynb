{
 "cells": [
  {
   "cell_type": "code",
   "execution_count": 1,
   "metadata": {},
   "outputs": [
    {
     "name": "stdout",
     "output_type": "stream",
     "text": [
      " * Serving Flask app '__main__'\n",
      " * Debug mode: off\n"
     ]
    },
    {
     "name": "stderr",
     "output_type": "stream",
     "text": [
      "WARNING: This is a development server. Do not use it in a production deployment. Use a production WSGI server instead.\n",
      " * Running on http://127.0.0.1:5000\n",
      "Press CTRL+C to quit\n",
      "127.0.0.1 - - [08/Jun/2023 17:01:39] \"GET / HTTP/1.1\" 200 -\n",
      "127.0.0.1 - - [08/Jun/2023 17:01:48] \"POST /add_student HTTP/1.1\" 404 -\n"
     ]
    }
   ],
   "source": [
    "from flask import Flask, render_template, request, redirect, url_for\n",
    "import mysql.connector\n",
    "from student import *\n",
    "import re\n",
    "from dataclasses import dataclass\n",
    "\n",
    "app = Flask(__name__)\n",
    "\n",
    "conn = {\n",
    "    'user' : 'root',\n",
    "    'password' : 'password',\n",
    "    'host' : 'localhost',\n",
    "    'database' : 'wiley_edge_c361'\n",
    "}\n",
    "\n",
    "@dataclass\n",
    "class Student:\n",
    "    name: str\n",
    "    marks : int\n",
    "    subject : str\n",
    "\n",
    "@app.route('/')\n",
    "def index():\n",
    "    return render_template(\"index.html\")\n",
    "\n",
    "@app.route('/index', methods=['GET', 'POST'])\n",
    "def insert():\n",
    "    name = request.form['name']\n",
    "    marks = request.form['marks']\n",
    "    age = request.form['age']\n",
    "    subject = request.form['subject']\n",
    "    \n",
    "    if not re.match(r'^[a-zA-Z]$',name):\n",
    "        return \"Please Enter a valid name\"\n",
    "\n",
    "    if not re.match(r'^[0-9]{2}$',marks):\n",
    "        return \"Please Enter a valid marks\"\n",
    "    \n",
    "    if not re.match(r'^[a-zA-Z]$',subject):\n",
    "        return \"Please Enter a valid subject\"\n",
    "    \n",
    "    try: \n",
    "        conn = mysql.connector.connect(**conn)\n",
    "        cursor = conn.cursor()\n",
    "        cursor.execute(\"\"\"CREATE TABLE if not existsstudents599 (id INT AUTO_INCREMENT PRIMARY KEY,name VARCHAR(255),age INT, marks INT, subject VARCHAR(255))\"\"\")\n",
    "        print (\"Table created successfully\")\n",
    "\n",
    "        Student.add_student(name, age, marks, subject)\n",
    "        print (\"Record inserted successfully\")\n",
    "\n",
    "        print(Student.get_students())\n",
    "        conn.commit()\n",
    "        conn.close()\n",
    "        return \"Data saved Successfully\"\n",
    "    \n",
    "    except Exception as e:\n",
    "        conn.rollback()   \n",
    "        return 'Error occurred while saving data to the database: ' + str(e)\n",
    "    finally:\n",
    "        cursor.close()\n",
    "        conn.close()\n",
    "\n",
    "@app.route('/show_data')\n",
    "def show_data():\n",
    "    student_package = Student()  #package name\n",
    "    max_marks_image = student_package.visualize_max_marks_subject()\n",
    "    return render_template('datashow.html', max_marks_image=max_marks_image)\n",
    "\n",
    "if __name__ == '__main__':\n",
    "    app.run()"
   ]
  }
 ],
 "metadata": {
  "kernelspec": {
   "display_name": "Python 3",
   "language": "python",
   "name": "python3"
  },
  "language_info": {
   "codemirror_mode": {
    "name": "ipython",
    "version": 3
   },
   "file_extension": ".py",
   "mimetype": "text/x-python",
   "name": "python",
   "nbconvert_exporter": "python",
   "pygments_lexer": "ipython3",
   "version": "3.11.3"
  },
  "orig_nbformat": 4
 },
 "nbformat": 4,
 "nbformat_minor": 2
}
