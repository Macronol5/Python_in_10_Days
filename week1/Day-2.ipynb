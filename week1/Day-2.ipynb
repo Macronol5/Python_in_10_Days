{
 "cells": [
  {
   "attachments": {},
   "cell_type": "markdown",
   "metadata": {},
   "source": [
    "class is constructors\n",
    "The self parameter is a reference to the current instance of the class, and is used to \n",
    "access variables that belongs to the class.\n",
    "The python __init__ method is declared within a class and is used to initialize the attributes of an object as soon as the object is formed. While giving the definition for an __init__(self) method, a default parameter, named 'self' is always passed in its argument. This self represents the object of the class itself.\n",
    "The Python __str__ method returns the user readable string form of an object that can be understood by the end users.\n",
    "The Python __len__ method returns a positive integer that represents the length of the object on which it is called."
   ]
  },
  {
   "cell_type": "code",
   "execution_count": 3,
   "metadata": {},
   "outputs": [
    {
     "name": "stdout",
     "output_type": "stream",
     "text": [
      "[0, 1, 2, 3, 4, 5, 6, 7, 8, 9]\n"
     ]
    }
   ],
   "source": [
    "\n",
    "class Array(object):\n",
    "    def __init__(self,sizeOfArray,arrayType=int) -> None:\n",
    "        self.sizeOfArray = len(list(map(arrayType, range(sizeOfArray))))\n",
    "        self.arrayOfItems = [arrayType(0)] * sizeOfArray\n",
    "\n",
    "    #default whenever you call inside print or just the object name\n",
    "    def __str__(self):\n",
    "        return str(self.arrayOfItems)\n",
    "    \n",
    "    def __len__(self):\n",
    "        return len(self.arrayOfItems)\n",
    "    \n",
    "    def insert(self,keyToInsert,position):\n",
    "        if self.sizeOfArray > position:\n",
    "            for i in range(self.sizeOfArray-2,position-1,-1):\n",
    "                self.arrayOfItems[i+1] = self.arrayOfItems[i]\n",
    "            self.arrayOfItems[position] = keyToInsert\n",
    "        else:\n",
    "            print('Size of array is ',self.sizeOfArray)\n",
    "\n",
    "\n",
    "a=Array(10,int)\n",
    "for i in range(10):\n",
    "    a.insert(i,i)\n",
    "print(a)"
   ]
  },
  {
   "cell_type": "code",
   "execution_count": 13,
   "metadata": {},
   "outputs": [
    {
     "name": "stdout",
     "output_type": "stream",
     "text": [
      "5->6->None\n"
     ]
    }
   ],
   "source": [
    "class Node:\n",
    "    def __init__(self,value):\n",
    "        self.value=value\n",
    "        self.next=None\n",
    "\n",
    "# (-> None) - As is, it does absolutely nothing. It is a type annotation for the main function that simply \n",
    "# states that this function returns None. \n",
    "\n",
    "class LinkedList:\n",
    "    def __init__(self) -> None:\n",
    "        self.head = None\n",
    "        self.tail = None\n",
    "\n",
    "    def add_end(self,value):\n",
    "        new_node = Node(value)\n",
    "        if self.head is None:\n",
    "            self.head=new_node\n",
    "            self.tail=new_node\n",
    "        else:\n",
    "            self.tail.next=new_node\n",
    "            self.tail=new_node\n",
    "\n",
    "    def __str__(self):\n",
    "        res=\"\" \n",
    "        curr=self.head \n",
    "        while curr:\n",
    "            res += str(curr.value) + \"->\"\n",
    "            curr=curr.next\n",
    "        res = res + 'None'\n",
    "        return res\n",
    "    \n",
    "    def remove_end(self):\n",
    "        if self.head is None:\n",
    "            return \n",
    "        elif self.head == self.tail:\n",
    "            self.head = None \n",
    "            self.tail = None     \n",
    "        else:\n",
    "            cur=self.head\n",
    "            while cur.next.next:\n",
    "                cur = cur.next \n",
    "            cur.next=None\n",
    "\n",
    "    def add_begin(self,value):\n",
    "        new_node = Node(value)\n",
    "        if self.head is None:\n",
    "            self.head = new_node\n",
    "            self.tail = new_node\n",
    "        else:\n",
    "            new_node.next=self.head\n",
    "            self.head=new_node\n",
    "    \n",
    "    def remove_begin(self):\n",
    "        if self.head is None:\n",
    "            return \n",
    "        else:\n",
    "            curr= self.head\n",
    "            self.head=self.head.next\n",
    "            curr.next=None\n",
    "\n",
    "a=LinkedList()\n",
    "a.add_end(5)\n",
    "a.add_end(6)\n",
    "a.add_end(7)\n",
    "a.remove_end()\n",
    "print(a)"
   ]
  },
  {
   "cell_type": "code",
   "execution_count": 16,
   "metadata": {},
   "outputs": [
    {
     "name": "stdout",
     "output_type": "stream",
     "text": [
      "\n"
     ]
    }
   ],
   "source": [
    "#stack\n",
    "\n",
    "class stack:\n",
    "\n",
    "    def __init__(self):\n",
    "        self.items = []\n",
    "\n",
    "    def push(self,item):\n",
    "        self.items.append(item)\n",
    "\n",
    "    def pop(self):\n",
    "        if not self.is_empty():\n",
    "            return self.items.pop()\n",
    "    \n",
    "    def is_empty(self):\n",
    "        if not self.items:\n",
    "            return True\n",
    "        else:\n",
    "            return False\n",
    "\n",
    "    def peek(self):\n",
    "        return self.items[-1]\n",
    "    \n",
    "    def size(self):\n",
    "        return len(self.items)\n",
    "    \n",
    "    def empty_stack(self):\n",
    "        self.itens=[]\n",
    "\n",
    "    def __str__(self) -> str:\n",
    "        res =\"\" \n",
    "        for item in self.items:\n",
    "            res+=str(item) + \"\" \n",
    "        return res \n",
    "    \n",
    "    def add_end(self, val):\n",
    "        # creating a new node\n",
    "        new_node = Node(val)\n",
    "        # if the new_node is the first node, \n",
    "        # in that case, both head and tail will point towards it\n",
    "        if self.head is None:\n",
    "            self.head = new_node\n",
    "            self.tail = new_node\n",
    "        # if its not, then, iterate to the end of list and add\n",
    "        else:\n",
    "            curr = self.head\n",
    "            while curr.next:\n",
    "                curr = curr.next\n",
    "            curr.next = new_node\n",
    "\n",
    "\n",
    "\n",
    "my_stack=stack()\n",
    "my_stack.push(1)\n",
    "my_stack.push(2)\n",
    "my_stack.push(3)\n",
    "my_stack.pop()\n",
    "print()"
   ]
  },
  {
   "cell_type": "code",
   "execution_count": 19,
   "metadata": {},
   "outputs": [
    {
     "name": "stdout",
     "output_type": "stream",
     "text": [
      "Bracket completion status: False\n"
     ]
    }
   ],
   "source": [
    "def check_bracket_completion(input_string):\n",
    "    stack = []\n",
    "    opening_brackets = ['(']\n",
    "    closing_brackets = [')']\n",
    "    bracket_pairs = dict(zip(closing_brackets, opening_brackets))\n",
    "\n",
    "    for char in input_string:\n",
    "        if char in opening_brackets:\n",
    "            stack.append(char)\n",
    "        elif char in closing_brackets:\n",
    "            if not stack:\n",
    "                return False  \n",
    "            top = stack.pop()\n",
    "            if top != bracket_pairs[char]:\n",
    "                return False  \n",
    "    return len(stack) == 0  \n",
    "\n",
    "input_str = \"()(())())))(\"\n",
    "result = check_bracket_completion(input_str)\n",
    "print(f\"Bracket completion status: {result}\")\n"
   ]
  },
  {
   "cell_type": "code",
   "execution_count": null,
   "metadata": {},
   "outputs": [],
   "source": [
    "def tower_of_hanoi(n, source, auxiliary, destination):\n",
    "    if n == 1:\n",
    "        print(f\"Move disk 1 from {source} to {destination}\")\n",
    "        return\n",
    "\n",
    "    tower_of_hanoi(n-1, source, destination, auxiliary)\n",
    "    print(f\"Move disk {n} from {source} to {destination}\")\n",
    "    tower_of_hanoi(n-1, auxiliary, source, destination)\n",
    "\n",
    "\n",
    "def solve_tower_of_hanoi(num_disks):\n",
    "    source = []\n",
    "    auxiliary = []\n",
    "    destination = []\n",
    "\n",
    "    for disk in range(num_disks, 0, -1):\n",
    "        source.append(disk)\n",
    "\n",
    "    tower_of_hanoi(num_disks, source, auxiliary, destination)\n",
    "\n",
    "\n",
    "# Example usage\n",
    "num_disks = 3\n",
    "solve_tower_of_hanoi(num_disks)\n"
   ]
  }
 ],
 "metadata": {
  "kernelspec": {
   "display_name": "Python 3",
   "language": "python",
   "name": "python3"
  },
  "language_info": {
   "codemirror_mode": {
    "name": "ipython",
    "version": 3
   },
   "file_extension": ".py",
   "mimetype": "text/x-python",
   "name": "python",
   "nbconvert_exporter": "python",
   "pygments_lexer": "ipython3",
   "version": "3.11.3"
  },
  "orig_nbformat": 4
 },
 "nbformat": 4,
 "nbformat_minor": 2
}
