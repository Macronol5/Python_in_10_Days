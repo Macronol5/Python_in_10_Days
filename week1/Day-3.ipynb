{
 "cells": [
  {
   "cell_type": "code",
   "execution_count": 1,
   "id": "f515ba94",
   "metadata": {},
   "outputs": [],
   "source": [
    "# NOW let's begin with QUEUE\n",
    "# - fifo data structure\n",
    "# - examples: standing in a line reservation\n",
    "# - whatever goes in first, comes out first\n",
    "\n",
    "# let's initialize it:\n",
    "class Queue:\n",
    "    # each queue object will have an empty list(or queue)\n",
    "    def __init__(self) -> None:\n",
    "        self.items= []\n",
    "    \n",
    "    # to insert values in queue from the right |----|<-\n",
    "    def enqueue(self, item):\n",
    "        self.items.append(item)\n",
    "    \n",
    "    # to check if the queue is empty or not:\n",
    "    def is_empty(self):\n",
    "        if not self.items:\n",
    "            return True\n",
    "        return False\n",
    "    \n",
    "    # to remove one or more items from the queue from the left  <-|----|\n",
    "    def dequeue(self, no_of_items=1): # by default 1 item will be removed\n",
    "        counter = 0\n",
    "        while not self.is_empty() and counter < no_of_items:\n",
    "            self.items.pop(0) #keep removing the 0th index (left)\n",
    "            counter += 1\n",
    "    \n",
    "    # the general method to print stuff for queue\n",
    "    def __str__(self) -> str:\n",
    "        res = \"start- \"\n",
    "        for item in self.items:\n",
    "            res += str(item)+\" \"\n",
    "        return res+' -end'"
   ]
  },
  {
   "cell_type": "code",
   "execution_count": 3,
   "id": "b2d879f7",
   "metadata": {},
   "outputs": [
    {
     "name": "stdout",
     "output_type": "stream",
     "text": [
      "start- 1 2 3 4 5  -end\n"
     ]
    }
   ],
   "source": [
    "# let's initialize and add some stuff\n",
    "q = Queue()\n",
    "q.enqueue(1)\n",
    "q.enqueue(2)\n",
    "q.enqueue(3)\n",
    "q.enqueue(4)\n",
    "q.enqueue(5)\n",
    "print(q)"
   ]
  },
  {
   "cell_type": "code",
   "execution_count": 4,
   "id": "cb5e26f9",
   "metadata": {},
   "outputs": [
    {
     "name": "stdout",
     "output_type": "stream",
     "text": [
      "start- 2 3 4 5  -end\n",
      "start- 4 5  -end\n"
     ]
    }
   ],
   "source": [
    "# now let's dequeue:\n",
    "q.dequeue() # by default 1 item will be removed\n",
    "print(q)\n",
    "q.dequeue(2) # if no_of_items specified then based on that it'll be removed\n",
    "print(q)"
   ]
  },
  {
   "cell_type": "code",
   "execution_count": null,
   "id": "c14730d4",
   "metadata": {},
   "outputs": [],
   "source": [
    "\"\"\"\n",
    "GRAPHS \n",
    "- graphs are non-liner data structures\n",
    "- they consist of Nodes and Edges\n",
    "- Each element of the graph is a node\n",
    "- And each path joining those elements is an edge\n",
    "\n",
    "- An example of graph:\n",
    "\n",
    "        A\n",
    "        |\n",
    "        B - C - D             BFS: ABCDEFGHI\n",
    "        |   |\n",
    "        E - F - G             DFS: ABECFGHID\n",
    "                |\n",
    "                H - I\n",
    "\n",
    "- Here A,B,C,D,E,F,G,H and I are nodes\n",
    "- and, (A-B),(B-E),(B-C), so on are the edges\n",
    "\n",
    "-- A graph can be of two types (directed or un-directed)\n",
    " - In case of directed graph:\n",
    "   * each node points towards other node(s)\n",
    "   * in such a case, if edge is : A->B, then\n",
    "     traversal from A to B is possible but B to A\n",
    "     is not possible (similarly, for other nodes)\n",
    "\n",
    " - In case of non-directed graph:\n",
    "   * nodes are just connected, there is no specific direction\n",
    "   * in such a case, if edge is A-B then traversal from both\n",
    "     A to B and B to A is possible.\n",
    "\n",
    "THE traversal methods for a Graph includes: BFS and DFS\n",
    "BFS : the width of the graph is explored first and then the depth\n",
    "DFS : the depth of the graph is explored first the width from left to right\n",
    "\n",
    "\n",
    "\"\"\""
   ]
  },
  {
   "cell_type": "code",
   "execution_count": 5,
   "id": "1a21b9c0",
   "metadata": {},
   "outputs": [],
   "source": [
    "# GRAPHS using Python:\n",
    "# note that this is an example of un-directed graph\n",
    "\n",
    "class Graph:\n",
    "    # the object initialization will have a dictionary\n",
    "    # the dictionary will have KEYs as NODES\n",
    "    # and VALUEs as NEIGHBOUR NODES\n",
    "    def __init__(self) -> None:\n",
    "        self.graph = {}\n",
    "    \n",
    "    # now the next step is to add vertices\n",
    "    # now, while adding that, we know that KEYS will be the \n",
    "    # vertices. So, each of those keys must be initialized,\n",
    "    # with the scope of adding all the neighbouring vertices with it.\n",
    "    # For this to happen, we'll have to have a list for each vertex\n",
    "    # to add it's neighbouring vertices:\n",
    "    \n",
    "    def add_vertex(self, vertex):\n",
    "        if vertex not in self.graph: # if vertex not already present\n",
    "            self.graph[vertex] = []  # add it\n",
    "    \n",
    "    # now, once the vertices are added, we need to specify the connections\n",
    "    # between them, or we need the edges of the graph\n",
    "    \n",
    "    # a combination of two vertices will make an edge\n",
    "    # now, HERE we have non-directed so an edge of (A,B) signifies\n",
    "    # a path from both A and B to B and A resp.\n",
    "    \n",
    "    def add_edges(self, vertex1, vertex2):\n",
    "        # ------------------------------------------\n",
    "        if vertex1 not in self.graph: \n",
    "            self.add_vertex(vertex1)\n",
    "        \n",
    "        if vertex2 not in self.graph:\n",
    "            self.add_vertex(vertex2)\n",
    "        # ------------------------------------------\n",
    "        # the above code snippet is just precautionary as, if there\n",
    "        # is a vertex which isn't the part of graph and is being added\n",
    "        # has to be covered as well\n",
    "        \n",
    "        # Now, suppose vertex1 = A and vertex2 = B\n",
    "        # This means that B is a neighbour of A\n",
    "        # This also means A is a neighbour of B\n",
    "        # So,\n",
    "        self.graph[vertex1].append(vertex2) # Adding vertex2 to the neighbours list of vertex 1\n",
    "        self.graph[vertex2].append(vertex1) # Adding vertex1 to the neighbours list of vertex 2\n",
    "    \n",
    "    # now to get all the vertices in the graph:\n",
    "    def get_vertices(self):\n",
    "        return list(self.graph.keys())\n",
    "        # we'll simply return the keys of the graph as those are the nodes\n",
    "    \n",
    "    # getting the edge combinations from the dictionary of nodes and neighbours\n",
    "    def get_edges(self):\n",
    "        # first, we'll maintain a empty list to store the edges to be displayed\n",
    "        edges= []\n",
    "        \n",
    "        # now, for edges to be returned we know:\n",
    "        # VERTEX 1 : NEIGH 1, NEIGH 2, NEIGH 3\n",
    "        # VERTEX 2 : NEIGH 1, NEIGH 2\n",
    "        # so the edges will be:\n",
    "        # (V1,N1)(V2,N2)(V3,N3)(V2,N1)(V2,N2)\n",
    "        \n",
    "        # so, we'll iterate though each vertex and for each vertex,\n",
    "        # we'll go through each neighbour and make the (VN) pairs as edges\n",
    "        # So,\n",
    "        for vertex in self.graph:  # for each vertex\n",
    "            for neighbour in self.graph[vertex]: # for each neighbour \n",
    "                edges.append((vertex, neighbour)) # (ver-neigh) pair as edge\n",
    "        return edges"
   ]
  },
  {
   "cell_type": "code",
   "execution_count": 6,
   "id": "80e908dc",
   "metadata": {},
   "outputs": [
    {
     "name": "stdout",
     "output_type": "stream",
     "text": [
      "['A', 'B', 'C']\n",
      "[('A', 'B'), ('A', 'C'), ('B', 'A'), ('B', 'C'), ('C', 'B'), ('C', 'A')]\n"
     ]
    }
   ],
   "source": [
    "g = Graph()\n",
    "g.add_vertex(\"A\")\n",
    "g.add_vertex(\"B\")\n",
    "g.add_vertex(\"C\")\n",
    "g.add_edges(\"A\",\"B\")\n",
    "g.add_edges(\"B\",\"C\")\n",
    "g.add_edges(\"C\",\"A\")\n",
    "print(g.get_vertices())\n",
    "print(g.get_edges())"
   ]
  },
  {
   "cell_type": "code",
   "execution_count": 11,
   "id": "e5e9abfa",
   "metadata": {},
   "outputs": [],
   "source": [
    "# Let's try directed graph now:\n",
    "# the main thing is only to direct the \n",
    "# points from A to B only\n",
    "\n",
    "class DGraph:\n",
    "    def __init__(self):\n",
    "        self.dgraph = {}\n",
    "    \n",
    "    def add_vert(self, vert):\n",
    "        if vert not in self.dgraph:\n",
    "            self.dgraph[vert] = []\n",
    "    \n",
    "    def add_neighbours(self, from_vert, to_vert):\n",
    "        if from_vert not in self.dgraph:\n",
    "            self.add_vert(from_vert)\n",
    "        \n",
    "        if to_vert not in self.dgraph:\n",
    "            self.add_vert(to_vert)\n",
    "        \n",
    "        self.dgraph[from_vert].append(to_vert)\n",
    "        # here we won't add to_vert to from_vert\n",
    "    \n",
    "    def print_vertices(self):\n",
    "        return list(self.dgraph.keys())\n",
    "    \n",
    "    def print_edges(self):\n",
    "        edges = []\n",
    "        for vert in self.dgraph:\n",
    "            for neigh in self.dgraph[vert]:\n",
    "                edges.append((vert,neigh))\n",
    "        return edges"
   ]
  },
  {
   "cell_type": "code",
   "execution_count": 12,
   "id": "3dbafbe7",
   "metadata": {},
   "outputs": [
    {
     "name": "stdout",
     "output_type": "stream",
     "text": [
      "['X', 'Y', 'Z', 'W']\n",
      "[('X', 'Y'), ('X', 'Z'), ('Y', 'W'), ('Z', 'Y'), ('W', 'X')]\n"
     ]
    }
   ],
   "source": [
    "dg = DGraph()\n",
    "dg.add_vert(\"X\")\n",
    "dg.add_vert(\"Y\")\n",
    "dg.add_vert(\"Z\")\n",
    "dg.add_vert(\"W\")\n",
    "dg.add_neighbours(\"X\",\"Y\")\n",
    "dg.add_neighbours(\"Y\",\"W\")\n",
    "dg.add_neighbours(\"W\",\"X\")\n",
    "dg.add_neighbours(\"Z\",\"Y\")\n",
    "dg.add_neighbours(\"X\",\"Z\")\n",
    "print(dg.print_vertices())\n",
    "print(dg.print_edges())"
   ]
  },
  {
   "cell_type": "code",
   "execution_count": 3,
   "id": "13f54207",
   "metadata": {},
   "outputs": [
    {
     "data": {
      "text/plain": [
       "{'X': ['Y'], 'Y': ['W'], 'Z': ['Y'], 'W': ['X']}"
      ]
     },
     "execution_count": 3,
     "metadata": {},
     "output_type": "execute_result"
    }
   ],
   "source": [
    "dg.dgraph"
   ]
  },
  {
   "cell_type": "code",
   "execution_count": 13,
   "id": "a52061ee",
   "metadata": {},
   "outputs": [],
   "source": [
    "#Sir's approach for DG:\n",
    "# much more optimized!\n",
    "class DirectedGraph:\n",
    "    def __init__(self) -> None:\n",
    "        self.graph = {}\n",
    "    \n",
    "    def add_edge(self, source, destination):\n",
    "        if source not in self.graph:\n",
    "            self.graph[source] = []\n",
    "        self.graph[source].append(destination)\n",
    "    \n",
    "    def print_graph(self):\n",
    "        for vertex in self.graph:\n",
    "            for adj_vertex in self.graph[vertex]:\n",
    "                print(vertex,\"->\",adj_vertex)"
   ]
  },
  {
   "cell_type": "code",
   "execution_count": 15,
   "id": "1be70b53",
   "metadata": {},
   "outputs": [
    {
     "name": "stdout",
     "output_type": "stream",
     "text": [
      "A -> B\n",
      "A -> C\n",
      "B -> D\n",
      "C -> D\n",
      "D -> E\n"
     ]
    }
   ],
   "source": [
    "graph = DirectedGraph()\n",
    "graph.add_edge(\"A\",\"B\")\n",
    "graph.add_edge(\"A\",\"C\")\n",
    "graph.add_edge(\"B\",\"D\")\n",
    "graph.add_edge(\"C\",\"D\")\n",
    "graph.add_edge(\"D\",\"E\")\n",
    "graph.print_graph()"
   ]
  },
  {
   "cell_type": "code",
   "execution_count": 16,
   "id": "a7bf75f5",
   "metadata": {},
   "outputs": [
    {
     "data": {
      "text/plain": [
       "{'A': ['B', 'C'], 'B': ['D'], 'C': ['D'], 'D': ['E']}"
      ]
     },
     "execution_count": 16,
     "metadata": {},
     "output_type": "execute_result"
    }
   ],
   "source": [
    "graph.graph"
   ]
  },
  {
   "cell_type": "code",
   "execution_count": 1,
   "id": "bc69e0c2",
   "metadata": {},
   "outputs": [],
   "source": [
    "# Now, let's get into DFS (Depth first Search)\n",
    "# keep in mind that this one is for directed graph\n",
    "\n",
    "class Graph:\n",
    "    def __init__(self) -> None:\n",
    "        self.graph = {}\n",
    "    \n",
    "    def add_edge(self, source, destination):\n",
    "        if source not in self.graph:\n",
    "            self.graph[source] = []\n",
    "        self.graph[source].append(destination)\n",
    "    \n",
    "    def print_graph(self):\n",
    "        for vertex in self.graph:\n",
    "            for adj_vertex in self.graph[vertex]:\n",
    "                print(vertex,\"->\",adj_vertex)\n",
    "                \n",
    "    # everything above is same as basic directed graph\n",
    "    # the DFS algo:\n",
    "    \n",
    "    def DFS(self, start_vertex): # the start vertex tells from where to begin\n",
    "        visited = set() # keep the track of visited nodes in a set\n",
    "        \n",
    "        # define a utility function that takes in a vertex\n",
    "        def dfs_util(vertex):\n",
    "            visited.add(vertex) # simply add the node to visited\n",
    "            print(vertex, end=\" \") # print the newly added node\n",
    "            \n",
    "            if vertex in self.graph: # if the current vertex is already in graph, then,\n",
    "                for adj_vertex in self.graph[vertex]: # for all the adj_vertices of that vertex:\n",
    "                    if adj_vertex not in visited: # if that vertex is not present in visited,\n",
    "                        dfs_util(adj_vertex)# call the utility function again to print the vertices\n",
    "                        \n",
    "        dfs_util(start_vertex)# calling the utility function for the first time\n",
    "                              # with the start node"
   ]
  },
  {
   "cell_type": "code",
   "execution_count": 2,
   "id": "188104a6",
   "metadata": {},
   "outputs": [
    {
     "name": "stdout",
     "output_type": "stream",
     "text": [
      "A -> B\n",
      "A -> C\n",
      "B -> D\n",
      "C -> D\n",
      "D -> E\n",
      "A B D E C "
     ]
    }
   ],
   "source": [
    "graph = Graph()\n",
    "graph.add_edge(\"A\",\"B\")\n",
    "graph.add_edge(\"A\",\"C\")\n",
    "graph.add_edge(\"B\",\"D\")\n",
    "graph.add_edge(\"C\",\"D\")\n",
    "graph.add_edge(\"D\",\"E\")\n",
    "graph.print_graph()\n",
    "graph.DFS(\"A\")"
   ]
  },
  {
   "cell_type": "code",
   "execution_count": 3,
   "id": "f9742df8",
   "metadata": {},
   "outputs": [
    {
     "name": "stdout",
     "output_type": "stream",
     "text": [
      "B D E "
     ]
    }
   ],
   "source": [
    "graph.DFS(\"B\")"
   ]
  },
  {
   "cell_type": "code",
   "execution_count": null,
   "id": "9c285c9e",
   "metadata": {},
   "outputs": [],
   "source": [
    "# THE SAME APPROACH can be used for the non-directed graph as well:\n",
    "# The only thing that needs to be changed is during the addition \n",
    "# of nodes (instead of being just A->B or B->A,\n",
    "# they'll be A<->B)\n",
    "# The DFS function remains as it is."
   ]
  },
  {
   "cell_type": "code",
   "execution_count": 4,
   "id": "974b874d",
   "metadata": {},
   "outputs": [],
   "source": [
    "# Trying for BFS\n",
    "from collections import deque\n",
    "\n",
    "class GraphBFS:\n",
    "    def __init__(self) -> None:\n",
    "        self.graph = {}\n",
    "    \n",
    "    def add_edge(self, source, destination):\n",
    "        if source not in self.graph:\n",
    "            self.graph[source] = []\n",
    "        self.graph[source].append(destination)\n",
    "    # the procedure of creation of a graph is same as always!\n",
    "    \n",
    "    #let's do the bsf stuff (we'll have to have a starting point)\n",
    "    def BFS(self, start_vertex):\n",
    "        visited = set() # creating a set to store the visited nodes\n",
    "        queue = deque() # creating a queue to \n",
    "        \n",
    "        visited.add(start_vertex) # adding the current vertex to visited\n",
    "        queue.append(start_vertex) # also adding the current vertex to the queue\n",
    "        \n",
    "        while queue: # by the time the queue doesn't gets empty \n",
    "            current_vertex = queue.popleft() # pop the left most element of the queue and make that as current vertex\n",
    "            print(current_vertex, end = \" \") # print that current vertex\n",
    "            \n",
    "            if current_vertex in self.graph: # if that vetex is present in graph:\n",
    "                for adj_vertex in self.graph[current_vertex]: # for each adjcent vertex of that vertex\n",
    "                    if adj_vertex not in visited: # if that particular adjacent vertex is not visited\n",
    "                        visited.add(adj_vertex) # add that vetrex to the visisted \n",
    "                        queue.append(adj_vertex) # as well as add that vertex to the queue\n",
    "        \n",
    "        # continue this as long as the queue doesn't gets empty\n",
    "        # queue helps in keeping the adjacent elements instead of \n",
    "        # going deeper into the graph\n",
    "        "
   ]
  },
  {
   "cell_type": "code",
   "execution_count": 5,
   "id": "b7a6ed73",
   "metadata": {},
   "outputs": [
    {
     "name": "stdout",
     "output_type": "stream",
     "text": [
      "A B C D E "
     ]
    }
   ],
   "source": [
    "bfs = GraphBFS()\n",
    "bfs.add_edge(\"A\",\"B\")\n",
    "bfs.add_edge(\"A\",\"C\")\n",
    "bfs.add_edge(\"B\",\"D\")\n",
    "bfs.add_edge(\"C\",\"D\")\n",
    "bfs.add_edge(\"D\",\"E\")\n",
    "\n",
    "bfs.BFS(\"A\")"
   ]
  },
  {
   "cell_type": "code",
   "execution_count": null,
   "id": "2894f5a5",
   "metadata": {},
   "outputs": [],
   "source": [
    "# Aditya's Approach for BFS:\n",
    "def bfs(self,src):\n",
    "    visited = set()\n",
    "    queue = []\n",
    "    queue.append(src)\n",
    "    visited.add(src)\n",
    "    while len(queue):\n",
    "        size = len(queue)\n",
    "        for i in range(size):\n",
    "            front = queue.pop(0)\n",
    "            print(front,end=\" \")\n",
    "            for j in self.graph[front]:\n",
    "                if j not in visited:\n",
    "                    queue.append(j)\n",
    "                    visited.add(j)\n",
    "            print()"
   ]
  },
  {
   "cell_type": "code",
   "execution_count": 7,
   "id": "80d1772e",
   "metadata": {},
   "outputs": [],
   "source": [
    "# Moving on towards the TREE Data Structure\n",
    "# (we'll look into binary tree)\n",
    "\n",
    "# Binary tree\n",
    "class Node:\n",
    "    \n",
    "    # the basic initialization will be a node\n",
    "    # which has the data and links to the left \n",
    "    # and the right childs\n",
    "    def __init__(self,data) -> None:\n",
    "        self.data = data\n",
    "        self.leftChild = None\n",
    "        self.rightChild = None\n",
    "    \n",
    "    # to insert data into the tree:\n",
    "    # if the value to be inserted is less than \n",
    "    # the value of current node, then push it to the left of the node\n",
    "    # otherwise, push it to the right of the node\n",
    "    def insert(self,data):\n",
    "        if data <self.data:\n",
    "            if self.leftChild:\n",
    "                self.leftChild.insert(data)\n",
    "            else:\n",
    "                self.leftChild=Node(data)\n",
    "        else:\n",
    "            if self.rightChild:\n",
    "                self.rightChild.insert(data)\n",
    "            else:\n",
    "                self.rightChild = Node(data)\n",
    "    # to print the tree, we'll follow the level\n",
    "    # order traversal\n",
    "    def printTree(self,level=0): # starting with the 0th level\n",
    "        if self.rightChild:# if right child is present\n",
    "            self.rightChild.printTree(level +1) # go rightside into next level and repeat the same process\n",
    "        if self.data!=None: # if the data for that node is not null\n",
    "            print(' '* 4 * level +str(self.data)) # print the data\n",
    "        if self.leftChild: # if left child is present, then,\n",
    "            self.leftChild.printTree(level +1) # go the next level in the tree and repeat the same process\n",
    "    \n",
    "    # to search for the item in the tree:\n",
    "    def search(self, val, root):\n",
    "        # first declare a temporary variable to store the root node\n",
    "        temp = root\n",
    "        # then till the time the data isn't equal to the value,\n",
    "        # keep getting down and down based on data's value\n",
    "        while temp.data != val:\n",
    "            if temp.data > val:\n",
    "                temp = temp.leftChild\n",
    "            else:\n",
    "                temp = temp.rightChild\n",
    "            # when it will be found, it'll either return the node or null\n",
    "            # if not found\n",
    "        return temp"
   ]
  },
  {
   "cell_type": "code",
   "execution_count": 8,
   "id": "edbdec69",
   "metadata": {},
   "outputs": [
    {
     "name": "stdout",
     "output_type": "stream",
     "text": [
      "    35\n",
      "        31\n",
      "27\n",
      "        19\n",
      "    14\n",
      "        10\n"
     ]
    }
   ],
   "source": [
    "root = Node(27)\n",
    "root.insert(14)\n",
    "root.insert(35)\n",
    "root.insert(31)\n",
    "root.insert(10)\n",
    "root.insert(19)\n",
    "root.printTree()"
   ]
  },
  {
   "cell_type": "code",
   "execution_count": 11,
   "id": "a6e89835",
   "metadata": {},
   "outputs": [
    {
     "name": "stdout",
     "output_type": "stream",
     "text": [
      "10\n"
     ]
    }
   ],
   "source": [
    "print(root.search(10,root).data)"
   ]
  }
 ],
 "metadata": {
  "kernelspec": {
   "display_name": "Python 3 (ipykernel)",
   "language": "python",
   "name": "python3"
  },
  "language_info": {
   "codemirror_mode": {
    "name": "ipython",
    "version": 3
   },
   "file_extension": ".py",
   "mimetype": "text/x-python",
   "name": "python",
   "nbconvert_exporter": "python",
   "pygments_lexer": "ipython3",
   "version": "3.11.3"
  }
 },
 "nbformat": 4,
 "nbformat_minor": 5
}
