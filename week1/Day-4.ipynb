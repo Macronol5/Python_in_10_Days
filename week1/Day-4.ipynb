{
 "cells": [
  {
   "attachments": {},
   "cell_type": "markdown",
   "metadata": {},
   "source": [
    "Time Complexcity and Space Complexcity\n",
    "-time = amount of time taken by algo to execute a function - denoted by Big O\n",
    "-space = total space the program taken \n",
    "14hz => 10^9\n",
    "fucntion -> 5 instructor\n",
    "\n"
   ]
  },
  {
   "cell_type": "code",
   "execution_count": 4,
   "metadata": {},
   "outputs": [
    {
     "name": "stdout",
     "output_type": "stream",
     "text": [
      "1.0\n",
      "1\n",
      "4094\n"
     ]
    }
   ],
   "source": [
    "N=2048\n",
    "outer_count = 0\n",
    "inner_count = 0\n",
    "\n",
    "while N > 1:\n",
    "    outer_count = 1\n",
    "    j=0\n",
    "    while j < N:\n",
    "        inner_count += 1\n",
    "        x = j * N\n",
    "        j += 1\n",
    "    N = N/2\n",
    "print(N)\n",
    "print(outer_count)\n",
    "print(inner_count)\n"
   ]
  },
  {
   "cell_type": "code",
   "execution_count": 7,
   "metadata": {},
   "outputs": [
    {
     "name": "stdout",
     "output_type": "stream",
     "text": [
      "12\n",
      "None\n"
     ]
    }
   ],
   "source": [
    "list = [1,2,3,4,5,6,7,8,9,10]\n",
    "def fun(l,n,m):\n",
    "    print(sum(l[n:m]))\n",
    "\n",
    "\n",
    "n = int(input(\"Enter the starting index: \"))\n",
    "m = int(input(\"Enter the ending index: \"))\n",
    "print(fun(list,n,m))"
   ]
  },
  {
   "cell_type": "code",
   "execution_count": 13,
   "metadata": {},
   "outputs": [
    {
     "name": "stdout",
     "output_type": "stream",
     "text": [
      "15\n"
     ]
    }
   ],
   "source": [
    "a=[1,2,3,4,5,6,7]\n",
    "runningsum = a\n",
    "start_index = 0\n",
    "end_index=4\n",
    "for i in range(1,len(a)):\n",
    "    runningsum[i] = runningsum[i-1] + runningsum[i]\n",
    "\n",
    "# for index 2 to 4\n",
    "if start_index == 0:\n",
    "    print(runningsum[end_index])\n",
    "else:\n",
    "    print(runningsum[end_index] - runningsum[start_index-1])"
   ]
  },
  {
   "cell_type": "code",
   "execution_count": 15,
   "metadata": {},
   "outputs": [
    {
     "data": {
      "text/plain": [
       "8"
      ]
     },
     "execution_count": 15,
     "metadata": {},
     "output_type": "execute_result"
    }
   ],
   "source": [
    "def countoffactor(num):\n",
    "    count = 1\n",
    "    for item in range(1,num):\n",
    "        if num % item == 0:\n",
    "            count += 1\n",
    "    return count\n",
    "countoffactor(24)"
   ]
  },
  {
   "cell_type": "code",
   "execution_count": 18,
   "metadata": {},
   "outputs": [
    {
     "name": "stdout",
     "output_type": "stream",
     "text": [
      "4498500\n"
     ]
    }
   ],
   "source": [
    "def sum_brute_force(N):\n",
    "    sum = 0\n",
    "    for i in range(N):\n",
    "        sum += i\n",
    "    return sum\n",
    "print(sum_brute_force(3000))"
   ]
  },
  {
   "cell_type": "code",
   "execution_count": 19,
   "metadata": {},
   "outputs": [
    {
     "name": "stdout",
     "output_type": "stream",
     "text": [
      "4501500.0\n"
     ]
    }
   ],
   "source": [
    "def sumAP(N):\n",
    "    sum = 0\n",
    "    sum = (N*(N+1))/2\n",
    "    return sum\n",
    "print(sumAP(3000))"
   ]
  },
  {
   "cell_type": "code",
   "execution_count": 20,
   "metadata": {},
   "outputs": [
    {
     "data": {
      "text/plain": [
       "24"
      ]
     },
     "execution_count": 20,
     "metadata": {},
     "output_type": "execute_result"
    }
   ],
   "source": [
    "import math\n",
    "num = 10000\n",
    "factors = 0\n",
    "for i in range(2,math.ceil(math.sqrt(num))+1):\n",
    "    if num%i == 0:\n",
    "        factors +=2 if num/i!=i else 1\n",
    "factors += 1\n",
    "factors"
   ]
  },
  {
   "cell_type": "code",
   "execution_count": 24,
   "metadata": {},
   "outputs": [
    {
     "name": "stdout",
     "output_type": "stream",
     "text": [
      "The factorial of 5 is approximately 118\n"
     ]
    }
   ],
   "source": [
    "import math\n",
    "def factorial_sqrt(n):\n",
    "    if n == 0:\n",
    "        return 1\n",
    "\n",
    "    result = math.sqrt(2 * math.pi * n) * math.pow((n / math.e), n)\n",
    "    return round(result)\n",
    "\n",
    "# Example usage\n",
    "number = 5\n",
    "result = factorial_sqrt(number)\n",
    "print(f\"The factorial of {number} is approximately {result}\")"
   ]
  },
  {
   "cell_type": "code",
   "execution_count": 26,
   "metadata": {},
   "outputs": [
    {
     "data": {
      "text/plain": [
       "[10, 9, 8, 7, 6, 5, 4, 3, 2, 1]"
      ]
     },
     "execution_count": 26,
     "metadata": {},
     "output_type": "execute_result"
    }
   ],
   "source": [
    "def reverseArray(arr):\n",
    "    start_pointer  = 0\n",
    "    end_pointer = len(arr)-1\n",
    "    while start_pointer < end_pointer:\n",
    "        arr[start_pointer],arr[end_pointer] = arr[end_pointer],arr[start_pointer]\n",
    "        start_pointer += 1\n",
    "        end_pointer -= 1\n",
    "    return arr\n",
    "reverseArray([1,2,3,4,5,6,7,8,9,10])"
   ]
  },
  {
   "cell_type": "code",
   "execution_count": 27,
   "metadata": {},
   "outputs": [
    {
     "name": "stdout",
     "output_type": "stream",
     "text": [
      "n_rotations 3\n"
     ]
    },
    {
     "data": {
      "text/plain": [
       "[4, 5, 6, 7, 8, 9, 10, 1, 2, 3]"
      ]
     },
     "execution_count": 27,
     "metadata": {},
     "output_type": "execute_result"
    }
   ],
   "source": [
    "#Rotating the Array\n",
    "def rotateArray(arr,n):\n",
    "    n_rotations = n % len(arr)\n",
    "    print(\"n_rotations\",n_rotations)\n",
    "    for rotation in range(n_rotations):\n",
    "        temp = arr[0]\n",
    "        for i in range(len(arr)-1):\n",
    "            arr[i] = arr[i+1]\n",
    "        arr[len(arr)-1] = temp\n",
    "    return arr\n",
    "\n",
    "rotateArray([1,2,3,4,5,6,7,8,9,10],3)"
   ]
  },
  {
   "cell_type": "code",
   "execution_count": 30,
   "metadata": {},
   "outputs": [
    {
     "name": "stdout",
     "output_type": "stream",
     "text": [
      "[4, 5, 6, 7, 8, 9, 10, 1, 2, 3]\n"
     ]
    }
   ],
   "source": [
    "def left_rotation(a, k):\n",
    "   r = k % len(a)\n",
    "   return a[r:] + a[:r]\n",
    "print(left_rotation([1,2,3,4,5,6,7,8,9,10],3))"
   ]
  },
  {
   "cell_type": "code",
   "execution_count": 29,
   "metadata": {},
   "outputs": [
    {
     "name": "stdout",
     "output_type": "stream",
     "text": [
      "[8, 9, 10, 1, 2, 3, 4, 5, 6, 7]\n"
     ]
    }
   ],
   "source": [
    "def right_rotation(a, k):\n",
    "   r = k % len(a)\n",
    "   return a[-r:] + a[:-r]\n",
    "print(right_rotation([1,2,3,4,5,6,7,8,9,10],3))"
   ]
  },
  {
   "cell_type": "code",
   "execution_count": 50,
   "metadata": {},
   "outputs": [
    {
     "name": "stdout",
     "output_type": "stream",
     "text": [
      "[5, 6, 7, 1, 2, 3, 4]\n"
     ]
    }
   ],
   "source": [
    "def rotate_array(arr, k):\n",
    "    if k == 0:\n",
    "        return arr\n",
    "    else:\n",
    "        return rotate_array(arr[-1:] + arr[:-1], k - 1)\n",
    "print(rotate_array([1,2,3,4,5,6,7],3))\n"
   ]
  },
  {
   "cell_type": "code",
   "execution_count": 36,
   "metadata": {},
   "outputs": [
    {
     "name": "stdout",
     "output_type": "stream",
     "text": [
      "9\n"
     ]
    }
   ],
   "source": [
    "def find_second_largest(arr):\n",
    "    largest = arr[0]\n",
    "    second_largest = arr[0]\n",
    "    \n",
    "    for i in range(len(arr)):\n",
    "        if arr[i] > largest:\n",
    "            second_largest = largest\n",
    "            largest = arr[i]\n",
    "        elif arr[i] > second_largest and arr[i] < largest:\n",
    "            second_largest = arr[i]\n",
    "    \n",
    "    return second_largest\n",
    "\n",
    "list = [1,2,3,4,5,6,7,8,9,10]\n",
    "print(find_second_largest(list))"
   ]
  },
  {
   "cell_type": "code",
   "execution_count": 37,
   "metadata": {},
   "outputs": [
    {
     "name": "stdout",
     "output_type": "stream",
     "text": [
      "5\n"
     ]
    }
   ],
   "source": [
    "def count_even_numbers(start, end):\n",
    "    count = 0\n",
    "    for num in range(start, end + 1):\n",
    "        if num % 2 == 0:\n",
    "            count += 1\n",
    "    return count\n",
    "\n",
    "start = 1\n",
    "end = 10\n",
    "count = count_even_numbers(start, end)\n",
    "print(count)\n"
   ]
  },
  {
   "cell_type": "code",
   "execution_count": 38,
   "metadata": {},
   "outputs": [
    {
     "name": "stdout",
     "output_type": "stream",
     "text": [
      "[0, 1, 1, 2, 2]\n",
      "2\n",
      "1\n"
     ]
    }
   ],
   "source": [
    "arr = [1,2,3,4,5]\n",
    "arr[0] = 1 if (arr[0]%2==0) else 0\n",
    "for i in range(1,len(arr)):\n",
    "    arr[i] = arr[i-1] + (1 if (arr[i]%2==0) else 0)\n",
    "print(arr)\n",
    "\n",
    "#range [1,3]\n",
    "print(arr[3]-arr[0])\n",
    "#range [2,4]\n",
    "print(arr[4]-arr[1])"
   ]
  },
  {
   "cell_type": "code",
   "execution_count": 1,
   "metadata": {},
   "outputs": [],
   "source": [
    "#leet code\n",
    "#1480 Running Sum of 1d Array\n",
    "\n",
    "class Solution(object):\n",
    "    def runningSum(self, nums):\n",
    "        f = nums[:]\n",
    "        for i in range(1,len(nums)):\n",
    "            f[i] = f[i - 1] + nums[i]\n",
    "        return f\n"
   ]
  },
  {
   "cell_type": "code",
   "execution_count": null,
   "metadata": {},
   "outputs": [],
   "source": [
    "#189Rotate Array to right\n",
    "class Solution:\n",
    "    def rotate(self, nums, k):\n",
    "        if len(nums)<1 : \n",
    "            return \n",
    "        l=len(nums) \n",
    "        k=k%l\n",
    "        if not k: \n",
    "            return \n",
    "        nums[:k], nums[k:]= nums[-k:], nums[:-k]"
   ]
  },
  {
   "cell_type": "code",
   "execution_count": null,
   "metadata": {},
   "outputs": [],
   "source": [
    "#33Search in Rotated Sorted Array\n",
    "class Solution:\n",
    "    def search(self, nums: List[int], target: int) -> int:\n",
    "        start = 0\n",
    "        end = len(nums)-1\n",
    "        pivot = nums[-1]+1\n",
    "        first = target < pivot\n",
    "        \n",
    "        while True:\n",
    "            middle = (start+end)//2\n",
    "            if nums[middle] == target:\n",
    "                return middle\n",
    "\n",
    "            if (nums[middle] > target) == ((nums[middle] < pivot) == first):\n",
    "                end = middle-1\n",
    "            else:\n",
    "                start = middle+1\n",
    "            \n",
    "            if end < start:\n",
    "                return -1   "
   ]
  },
  {
   "cell_type": "code",
   "execution_count": null,
   "metadata": {},
   "outputs": [],
   "source": [
    "#442 Find All Duplicates in an Array\n",
    "\n",
    "#dict\n",
    "class Solution(object):\n",
    "    def findDuplicates(self, nums):\n",
    "        dict = {}\n",
    "        res = list()\n",
    "        \n",
    "        for ele in nums:\n",
    "            if ele not in dict:\n",
    "                dict[ele]=1\n",
    "            else:\n",
    "                res.append(ele)\n",
    "                \n",
    "        return res\n",
    "\n",
    "#list\n",
    "class Solution(object):\n",
    "    def findDuplicates(self, nums):\n",
    "        res = []\n",
    "        \n",
    "        for i in range(len(nums)):\n",
    "            index = abs(nums[i]) - 1\n",
    "            if nums[index] < 0:\n",
    "                res.append(abs(nums[i]))\n",
    "            else:\n",
    "                nums[index] = -nums[index]\n",
    "                \n",
    "        return res\n"
   ]
  }
 ],
 "metadata": {
  "kernelspec": {
   "display_name": "Python 3",
   "language": "python",
   "name": "python3"
  },
  "language_info": {
   "codemirror_mode": {
    "name": "ipython",
    "version": 3
   },
   "file_extension": ".py",
   "mimetype": "text/x-python",
   "name": "python",
   "nbconvert_exporter": "python",
   "pygments_lexer": "ipython3",
   "version": "3.11.3"
  },
  "orig_nbformat": 4
 },
 "nbformat": 4,
 "nbformat_minor": 2
}
